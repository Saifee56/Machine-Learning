{
 "cells": [
  {
   "cell_type": "markdown",
   "id": "9ef141f9",
   "metadata": {},
   "source": [
    "# Spam detection using Random Forest"
   ]
  },
  {
   "cell_type": "code",
   "execution_count": null,
   "id": "d2d4da7c",
   "metadata": {},
   "outputs": [],
   "source": [
    "import pandas as pd\n",
    "import numpy as np\n",
    "import matplotlib.pyplot as plt\n",
    "import seaborn as sns"
   ]
  },
  {
   "cell_type": "code",
   "execution_count": 2,
   "id": "3cf41941",
   "metadata": {},
   "outputs": [
    {
     "data": {
      "text/html": [
       "<div>\n",
       "<style scoped>\n",
       "    .dataframe tbody tr th:only-of-type {\n",
       "        vertical-align: middle;\n",
       "    }\n",
       "\n",
       "    .dataframe tbody tr th {\n",
       "        vertical-align: top;\n",
       "    }\n",
       "\n",
       "    .dataframe thead th {\n",
       "        text-align: right;\n",
       "    }\n",
       "</style>\n",
       "<table border=\"1\" class=\"dataframe\">\n",
       "  <thead>\n",
       "    <tr style=\"text-align: right;\">\n",
       "      <th></th>\n",
       "      <th>email</th>\n",
       "      <th>label</th>\n",
       "      <th>Subject</th>\n",
       "      <th>content</th>\n",
       "    </tr>\n",
       "  </thead>\n",
       "  <tbody>\n",
       "    <tr>\n",
       "      <th>0</th>\n",
       "      <td>b'From exmh-workers-admin@redhat.com  Thu Aug ...</td>\n",
       "      <td>0.0</td>\n",
       "      <td>new sequenc window</td>\n",
       "      <td>date wed number aug number number number chri ...</td>\n",
       "    </tr>\n",
       "    <tr>\n",
       "      <th>1</th>\n",
       "      <td>b'Return-Path: &lt;Online#3.19578.34-UgGTgZFN19NA...</td>\n",
       "      <td>0.0</td>\n",
       "      <td>cnet newscom cabl compani crack wifi</td>\n",
       "      <td>htmlhead titlec compani crack nametopa logo ad...</td>\n",
       "    </tr>\n",
       "    <tr>\n",
       "      <th>2</th>\n",
       "      <td>b'Return-Path: &lt;Online#3.19584.83-p1SYlJ1blFvQ...</td>\n",
       "      <td>0.0</td>\n",
       "      <td>save extra number ipaq number pda cnet shopper</td>\n",
       "      <td>htmlhead newslett hreftopa header tabl widthnu...</td>\n",
       "    </tr>\n",
       "    <tr>\n",
       "      <th>3</th>\n",
       "      <td>b'From Steve_Burt@cursor-system.com  Thu Aug 2...</td>\n",
       "      <td>0.0</td>\n",
       "      <td>zzzzteana alexand</td>\n",
       "      <td>martin greek sculptor behind plan judg limesto...</td>\n",
       "    </tr>\n",
       "    <tr>\n",
       "      <th>4</th>\n",
       "      <td>b'Return-Path: &lt;Online#3.19586.b5-9w0blztbvHPd...</td>\n",
       "      <td>0.0</td>\n",
       "      <td>week deck texedit plu boom</td>\n",
       "      <td>cnet download dispatchmac editionjuli number n...</td>\n",
       "    </tr>\n",
       "    <tr>\n",
       "      <th>...</th>\n",
       "      <td>...</td>\n",
       "      <td>...</td>\n",
       "      <td>...</td>\n",
       "      <td>...</td>\n",
       "    </tr>\n",
       "    <tr>\n",
       "      <th>3058</th>\n",
       "      <td>b'From 2002biz2biz2513@Flashmail.com  Mon Oct ...</td>\n",
       "      <td>1.0</td>\n",
       "      <td>fwddirect market work number</td>\n",
       "      <td>stumbl greatest way market centuri undoubtedli...</td>\n",
       "    </tr>\n",
       "    <tr>\n",
       "      <th>3059</th>\n",
       "      <td>b'From biz2biz2446@Flashmail.com  Mon Oct  7 2...</td>\n",
       "      <td>1.0</td>\n",
       "      <td>see compani sale sky rocket number</td>\n",
       "      <td>stumbl greatest way market centuri undoubtedli...</td>\n",
       "    </tr>\n",
       "    <tr>\n",
       "      <th>3060</th>\n",
       "      <td>b'From bounce2@u-answer.com  Tue Oct  8 11:02:...</td>\n",
       "      <td>1.0</td>\n",
       "      <td>number hour watch emmerci joke</td>\n",
       "      <td>frontpag numbermeta nameprogid vlinknumb align...</td>\n",
       "    </tr>\n",
       "    <tr>\n",
       "      <th>3061</th>\n",
       "      <td>b'From beautyinfufuxxxmeb13mxy@aol.com  Tue Oc...</td>\n",
       "      <td>1.0</td>\n",
       "      <td>make fortun ebay number</td>\n",
       "      <td>htmlbodi tr td p number rate work home busi bf...</td>\n",
       "    </tr>\n",
       "    <tr>\n",
       "      <th>3062</th>\n",
       "      <td>b'From evtwqmigru@datcon.co.uk  Tue Oct  8 11:...</td>\n",
       "      <td>1.0</td>\n",
       "      <td>faeri</td>\n",
       "      <td>uncommon exot pleasur marvel sweet treat pleas...</td>\n",
       "    </tr>\n",
       "  </tbody>\n",
       "</table>\n",
       "<p>3063 rows × 4 columns</p>\n",
       "</div>"
      ],
      "text/plain": [
       "                                                  email  label  \\\n",
       "0     b'From exmh-workers-admin@redhat.com  Thu Aug ...    0.0   \n",
       "1     b'Return-Path: <Online#3.19578.34-UgGTgZFN19NA...    0.0   \n",
       "2     b'Return-Path: <Online#3.19584.83-p1SYlJ1blFvQ...    0.0   \n",
       "3     b'From Steve_Burt@cursor-system.com  Thu Aug 2...    0.0   \n",
       "4     b'Return-Path: <Online#3.19586.b5-9w0blztbvHPd...    0.0   \n",
       "...                                                 ...    ...   \n",
       "3058  b'From 2002biz2biz2513@Flashmail.com  Mon Oct ...    1.0   \n",
       "3059  b'From biz2biz2446@Flashmail.com  Mon Oct  7 2...    1.0   \n",
       "3060  b'From bounce2@u-answer.com  Tue Oct  8 11:02:...    1.0   \n",
       "3061  b'From beautyinfufuxxxmeb13mxy@aol.com  Tue Oc...    1.0   \n",
       "3062  b'From evtwqmigru@datcon.co.uk  Tue Oct  8 11:...    1.0   \n",
       "\n",
       "                                             Subject  \\\n",
       "0                                 new sequenc window   \n",
       "1               cnet newscom cabl compani crack wifi   \n",
       "2     save extra number ipaq number pda cnet shopper   \n",
       "3                                  zzzzteana alexand   \n",
       "4                         week deck texedit plu boom   \n",
       "...                                              ...   \n",
       "3058                    fwddirect market work number   \n",
       "3059              see compani sale sky rocket number   \n",
       "3060                  number hour watch emmerci joke   \n",
       "3061                         make fortun ebay number   \n",
       "3062                                           faeri   \n",
       "\n",
       "                                                content  \n",
       "0     date wed number aug number number number chri ...  \n",
       "1     htmlhead titlec compani crack nametopa logo ad...  \n",
       "2     htmlhead newslett hreftopa header tabl widthnu...  \n",
       "3     martin greek sculptor behind plan judg limesto...  \n",
       "4     cnet download dispatchmac editionjuli number n...  \n",
       "...                                                 ...  \n",
       "3058  stumbl greatest way market centuri undoubtedli...  \n",
       "3059  stumbl greatest way market centuri undoubtedli...  \n",
       "3060  frontpag numbermeta nameprogid vlinknumb align...  \n",
       "3061  htmlbodi tr td p number rate work home busi bf...  \n",
       "3062  uncommon exot pleasur marvel sweet treat pleas...  \n",
       "\n",
       "[3063 rows x 4 columns]"
      ]
     },
     "execution_count": 2,
     "metadata": {},
     "output_type": "execute_result"
    }
   ],
   "source": [
    "df=pd.read_csv('Spam_Ham_data.csv')\n",
    "df"
   ]
  },
  {
   "cell_type": "code",
   "execution_count": 3,
   "id": "76199d04",
   "metadata": {},
   "outputs": [
    {
     "name": "stdout",
     "output_type": "stream",
     "text": [
      "<class 'pandas.core.frame.DataFrame'>\n",
      "RangeIndex: 3063 entries, 0 to 3062\n",
      "Data columns (total 4 columns):\n",
      " #   Column   Non-Null Count  Dtype  \n",
      "---  ------   --------------  -----  \n",
      " 0   email    3063 non-null   object \n",
      " 1   label    3063 non-null   float64\n",
      " 2   Subject  3008 non-null   object \n",
      " 3   content  3059 non-null   object \n",
      "dtypes: float64(1), object(3)\n",
      "memory usage: 95.8+ KB\n"
     ]
    }
   ],
   "source": [
    "df.info()"
   ]
  },
  {
   "cell_type": "code",
   "execution_count": 4,
   "id": "65ac0cf4",
   "metadata": {},
   "outputs": [
    {
     "data": {
      "text/html": [
       "<div>\n",
       "<style scoped>\n",
       "    .dataframe tbody tr th:only-of-type {\n",
       "        vertical-align: middle;\n",
       "    }\n",
       "\n",
       "    .dataframe tbody tr th {\n",
       "        vertical-align: top;\n",
       "    }\n",
       "\n",
       "    .dataframe thead th {\n",
       "        text-align: right;\n",
       "    }\n",
       "</style>\n",
       "<table border=\"1\" class=\"dataframe\">\n",
       "  <thead>\n",
       "    <tr style=\"text-align: right;\">\n",
       "      <th></th>\n",
       "      <th>email</th>\n",
       "      <th>label</th>\n",
       "      <th>Subject</th>\n",
       "      <th>content</th>\n",
       "    </tr>\n",
       "  </thead>\n",
       "  <tbody>\n",
       "    <tr>\n",
       "      <th>0</th>\n",
       "      <td>b'From exmh-workers-admin@redhat.com  Thu Aug ...</td>\n",
       "      <td>0.0</td>\n",
       "      <td>new sequenc window</td>\n",
       "      <td>date wed number aug number number number chri ...</td>\n",
       "    </tr>\n",
       "    <tr>\n",
       "      <th>1</th>\n",
       "      <td>b'Return-Path: &lt;Online#3.19578.34-UgGTgZFN19NA...</td>\n",
       "      <td>0.0</td>\n",
       "      <td>cnet newscom cabl compani crack wifi</td>\n",
       "      <td>htmlhead titlec compani crack nametopa logo ad...</td>\n",
       "    </tr>\n",
       "    <tr>\n",
       "      <th>2</th>\n",
       "      <td>b'Return-Path: &lt;Online#3.19584.83-p1SYlJ1blFvQ...</td>\n",
       "      <td>0.0</td>\n",
       "      <td>save extra number ipaq number pda cnet shopper</td>\n",
       "      <td>htmlhead newslett hreftopa header tabl widthnu...</td>\n",
       "    </tr>\n",
       "    <tr>\n",
       "      <th>3</th>\n",
       "      <td>b'From Steve_Burt@cursor-system.com  Thu Aug 2...</td>\n",
       "      <td>0.0</td>\n",
       "      <td>zzzzteana alexand</td>\n",
       "      <td>martin greek sculptor behind plan judg limesto...</td>\n",
       "    </tr>\n",
       "    <tr>\n",
       "      <th>4</th>\n",
       "      <td>b'Return-Path: &lt;Online#3.19586.b5-9w0blztbvHPd...</td>\n",
       "      <td>0.0</td>\n",
       "      <td>week deck texedit plu boom</td>\n",
       "      <td>cnet download dispatchmac editionjuli number n...</td>\n",
       "    </tr>\n",
       "  </tbody>\n",
       "</table>\n",
       "</div>"
      ],
      "text/plain": [
       "                                               email  label  \\\n",
       "0  b'From exmh-workers-admin@redhat.com  Thu Aug ...    0.0   \n",
       "1  b'Return-Path: <Online#3.19578.34-UgGTgZFN19NA...    0.0   \n",
       "2  b'Return-Path: <Online#3.19584.83-p1SYlJ1blFvQ...    0.0   \n",
       "3  b'From Steve_Burt@cursor-system.com  Thu Aug 2...    0.0   \n",
       "4  b'Return-Path: <Online#3.19586.b5-9w0blztbvHPd...    0.0   \n",
       "\n",
       "                                          Subject  \\\n",
       "0                              new sequenc window   \n",
       "1            cnet newscom cabl compani crack wifi   \n",
       "2  save extra number ipaq number pda cnet shopper   \n",
       "3                               zzzzteana alexand   \n",
       "4                      week deck texedit plu boom   \n",
       "\n",
       "                                             content  \n",
       "0  date wed number aug number number number chri ...  \n",
       "1  htmlhead titlec compani crack nametopa logo ad...  \n",
       "2  htmlhead newslett hreftopa header tabl widthnu...  \n",
       "3  martin greek sculptor behind plan judg limesto...  \n",
       "4  cnet download dispatchmac editionjuli number n...  "
      ]
     },
     "execution_count": 4,
     "metadata": {},
     "output_type": "execute_result"
    }
   ],
   "source": [
    "df.head()"
   ]
  },
  {
   "cell_type": "code",
   "execution_count": 6,
   "id": "61da4947",
   "metadata": {},
   "outputs": [
    {
     "data": {
      "text/html": [
       "<div>\n",
       "<style scoped>\n",
       "    .dataframe tbody tr th:only-of-type {\n",
       "        vertical-align: middle;\n",
       "    }\n",
       "\n",
       "    .dataframe tbody tr th {\n",
       "        vertical-align: top;\n",
       "    }\n",
       "\n",
       "    .dataframe thead th {\n",
       "        text-align: right;\n",
       "    }\n",
       "</style>\n",
       "<table border=\"1\" class=\"dataframe\">\n",
       "  <thead>\n",
       "    <tr style=\"text-align: right;\">\n",
       "      <th></th>\n",
       "      <th>count</th>\n",
       "      <th>mean</th>\n",
       "      <th>std</th>\n",
       "      <th>min</th>\n",
       "      <th>25%</th>\n",
       "      <th>50%</th>\n",
       "      <th>75%</th>\n",
       "      <th>max</th>\n",
       "    </tr>\n",
       "  </thead>\n",
       "  <tbody>\n",
       "    <tr>\n",
       "      <th>label</th>\n",
       "      <td>3063.0</td>\n",
       "      <td>0.131897</td>\n",
       "      <td>0.338434</td>\n",
       "      <td>0.0</td>\n",
       "      <td>0.0</td>\n",
       "      <td>0.0</td>\n",
       "      <td>0.0</td>\n",
       "      <td>1.0</td>\n",
       "    </tr>\n",
       "  </tbody>\n",
       "</table>\n",
       "</div>"
      ],
      "text/plain": [
       "        count      mean       std  min  25%  50%  75%  max\n",
       "label  3063.0  0.131897  0.338434  0.0  0.0  0.0  0.0  1.0"
      ]
     },
     "execution_count": 6,
     "metadata": {},
     "output_type": "execute_result"
    }
   ],
   "source": [
    "df.describe().T\n"
   ]
  },
  {
   "cell_type": "code",
   "execution_count": 9,
   "id": "a61faa44",
   "metadata": {},
   "outputs": [
    {
     "data": {
      "text/plain": [
       "0.0    2659\n",
       "1.0     404\n",
       "Name: label, dtype: int64"
      ]
     },
     "execution_count": 9,
     "metadata": {},
     "output_type": "execute_result"
    }
   ],
   "source": [
    "df['label'].value_counts()"
   ]
  },
  {
   "cell_type": "code",
   "execution_count": 10,
   "id": "dc4e7c5f",
   "metadata": {},
   "outputs": [
    {
     "data": {
      "text/plain": [
       "email       0\n",
       "label       0\n",
       "Subject    55\n",
       "content     4\n",
       "dtype: int64"
      ]
     },
     "execution_count": 10,
     "metadata": {},
     "output_type": "execute_result"
    }
   ],
   "source": [
    "df.isna().sum()"
   ]
  },
  {
   "cell_type": "code",
   "execution_count": 11,
   "id": "fab83a8c",
   "metadata": {},
   "outputs": [],
   "source": [
    "df.dropna(inplace=True)"
   ]
  },
  {
   "cell_type": "code",
   "execution_count": 12,
   "id": "3363bcd6",
   "metadata": {},
   "outputs": [
    {
     "data": {
      "text/plain": [
       "email      0\n",
       "label      0\n",
       "Subject    0\n",
       "content    0\n",
       "dtype: int64"
      ]
     },
     "execution_count": 12,
     "metadata": {},
     "output_type": "execute_result"
    }
   ],
   "source": [
    "df.isna().sum()"
   ]
  },
  {
   "cell_type": "code",
   "execution_count": 13,
   "id": "3a355bc8",
   "metadata": {},
   "outputs": [
    {
     "data": {
      "text/plain": [
       "Index(['email', 'label', 'Subject', 'content'], dtype='object')"
      ]
     },
     "execution_count": 13,
     "metadata": {},
     "output_type": "execute_result"
    }
   ],
   "source": [
    "df.columns"
   ]
  },
  {
   "cell_type": "code",
   "execution_count": 14,
   "id": "40b8e530",
   "metadata": {},
   "outputs": [
    {
     "data": {
      "text/html": [
       "<div>\n",
       "<style scoped>\n",
       "    .dataframe tbody tr th:only-of-type {\n",
       "        vertical-align: middle;\n",
       "    }\n",
       "\n",
       "    .dataframe tbody tr th {\n",
       "        vertical-align: top;\n",
       "    }\n",
       "\n",
       "    .dataframe thead th {\n",
       "        text-align: right;\n",
       "    }\n",
       "</style>\n",
       "<table border=\"1\" class=\"dataframe\">\n",
       "  <thead>\n",
       "    <tr style=\"text-align: right;\">\n",
       "      <th></th>\n",
       "      <th>email</th>\n",
       "      <th>Subject</th>\n",
       "      <th>content</th>\n",
       "    </tr>\n",
       "  </thead>\n",
       "  <tbody>\n",
       "    <tr>\n",
       "      <th>0</th>\n",
       "      <td>b'From exmh-workers-admin@redhat.com  Thu Aug ...</td>\n",
       "      <td>new sequenc window</td>\n",
       "      <td>date wed number aug number number number chri ...</td>\n",
       "    </tr>\n",
       "    <tr>\n",
       "      <th>1</th>\n",
       "      <td>b'Return-Path: &lt;Online#3.19578.34-UgGTgZFN19NA...</td>\n",
       "      <td>cnet newscom cabl compani crack wifi</td>\n",
       "      <td>htmlhead titlec compani crack nametopa logo ad...</td>\n",
       "    </tr>\n",
       "    <tr>\n",
       "      <th>2</th>\n",
       "      <td>b'Return-Path: &lt;Online#3.19584.83-p1SYlJ1blFvQ...</td>\n",
       "      <td>save extra number ipaq number pda cnet shopper</td>\n",
       "      <td>htmlhead newslett hreftopa header tabl widthnu...</td>\n",
       "    </tr>\n",
       "    <tr>\n",
       "      <th>3</th>\n",
       "      <td>b'From Steve_Burt@cursor-system.com  Thu Aug 2...</td>\n",
       "      <td>zzzzteana alexand</td>\n",
       "      <td>martin greek sculptor behind plan judg limesto...</td>\n",
       "    </tr>\n",
       "    <tr>\n",
       "      <th>4</th>\n",
       "      <td>b'Return-Path: &lt;Online#3.19586.b5-9w0blztbvHPd...</td>\n",
       "      <td>week deck texedit plu boom</td>\n",
       "      <td>cnet download dispatchmac editionjuli number n...</td>\n",
       "    </tr>\n",
       "  </tbody>\n",
       "</table>\n",
       "</div>"
      ],
      "text/plain": [
       "                                               email  \\\n",
       "0  b'From exmh-workers-admin@redhat.com  Thu Aug ...   \n",
       "1  b'Return-Path: <Online#3.19578.34-UgGTgZFN19NA...   \n",
       "2  b'Return-Path: <Online#3.19584.83-p1SYlJ1blFvQ...   \n",
       "3  b'From Steve_Burt@cursor-system.com  Thu Aug 2...   \n",
       "4  b'Return-Path: <Online#3.19586.b5-9w0blztbvHPd...   \n",
       "\n",
       "                                          Subject  \\\n",
       "0                              new sequenc window   \n",
       "1            cnet newscom cabl compani crack wifi   \n",
       "2  save extra number ipaq number pda cnet shopper   \n",
       "3                               zzzzteana alexand   \n",
       "4                      week deck texedit plu boom   \n",
       "\n",
       "                                             content  \n",
       "0  date wed number aug number number number chri ...  \n",
       "1  htmlhead titlec compani crack nametopa logo ad...  \n",
       "2  htmlhead newslett hreftopa header tabl widthnu...  \n",
       "3  martin greek sculptor behind plan judg limesto...  \n",
       "4  cnet download dispatchmac editionjuli number n...  "
      ]
     },
     "execution_count": 14,
     "metadata": {},
     "output_type": "execute_result"
    }
   ],
   "source": [
    "X=df.drop('label',axis=1)\n",
    "X.head()"
   ]
  },
  {
   "cell_type": "code",
   "execution_count": 15,
   "id": "6206a5aa",
   "metadata": {},
   "outputs": [
    {
     "data": {
      "text/plain": [
       "0    0.0\n",
       "1    0.0\n",
       "2    0.0\n",
       "3    0.0\n",
       "4    0.0\n",
       "Name: label, dtype: float64"
      ]
     },
     "execution_count": 15,
     "metadata": {},
     "output_type": "execute_result"
    }
   ],
   "source": [
    "y=df['label']\n",
    "y.head()"
   ]
  },
  {
   "cell_type": "markdown",
   "id": "9d4f05b4",
   "metadata": {},
   "source": [
    "# Feature Engineering"
   ]
  },
  {
   "cell_type": "code",
   "execution_count": 16,
   "id": "5b2b5340",
   "metadata": {},
   "outputs": [],
   "source": [
    "from sklearn.compose import ColumnTransformer\n",
    "from sklearn.preprocessing import OneHotEncoder"
   ]
  },
  {
   "cell_type": "code",
   "execution_count": 17,
   "id": "da4e7bb5",
   "metadata": {},
   "outputs": [],
   "source": [
    "category=['email','Subject','content']\n",
    "one_hot_encode=OneHotEncoder()"
   ]
  },
  {
   "cell_type": "code",
   "execution_count": 18,
   "id": "e4ff435d",
   "metadata": {},
   "outputs": [
    {
     "data": {
      "text/plain": [
       "array([[0., 0., 0., ..., 0., 0., 0.],\n",
       "       [0., 0., 0., ..., 0., 0., 0.],\n",
       "       [0., 0., 0., ..., 0., 0., 0.],\n",
       "       ...,\n",
       "       [0., 0., 0., ..., 0., 0., 0.],\n",
       "       [0., 0., 0., ..., 0., 0., 0.],\n",
       "       [0., 0., 0., ..., 0., 0., 0.]])"
      ]
     },
     "execution_count": 18,
     "metadata": {},
     "output_type": "execute_result"
    }
   ],
   "source": [
    "transformer=ColumnTransformer([(\"one_hot_encode\",one_hot_encode,category)],remainder='passthrough')\n",
    "X_transformed=transformer.fit_transform(X).toarray()\n",
    "X_transformed"
   ]
  },
  {
   "cell_type": "code",
   "execution_count": 19,
   "id": "36e3bac3",
   "metadata": {},
   "outputs": [
    {
     "data": {
      "text/html": [
       "<div>\n",
       "<style scoped>\n",
       "    .dataframe tbody tr th:only-of-type {\n",
       "        vertical-align: middle;\n",
       "    }\n",
       "\n",
       "    .dataframe tbody tr th {\n",
       "        vertical-align: top;\n",
       "    }\n",
       "\n",
       "    .dataframe thead th {\n",
       "        text-align: right;\n",
       "    }\n",
       "</style>\n",
       "<table border=\"1\" class=\"dataframe\">\n",
       "  <thead>\n",
       "    <tr style=\"text-align: right;\">\n",
       "      <th></th>\n",
       "      <th>0</th>\n",
       "      <th>1</th>\n",
       "      <th>2</th>\n",
       "      <th>3</th>\n",
       "      <th>4</th>\n",
       "      <th>5</th>\n",
       "      <th>6</th>\n",
       "      <th>7</th>\n",
       "      <th>8</th>\n",
       "      <th>9</th>\n",
       "      <th>...</th>\n",
       "      <th>7448</th>\n",
       "      <th>7449</th>\n",
       "      <th>7450</th>\n",
       "      <th>7451</th>\n",
       "      <th>7452</th>\n",
       "      <th>7453</th>\n",
       "      <th>7454</th>\n",
       "      <th>7455</th>\n",
       "      <th>7456</th>\n",
       "      <th>7457</th>\n",
       "    </tr>\n",
       "  </thead>\n",
       "  <tbody>\n",
       "    <tr>\n",
       "      <th>0</th>\n",
       "      <td>0.0</td>\n",
       "      <td>0.0</td>\n",
       "      <td>0.0</td>\n",
       "      <td>0.0</td>\n",
       "      <td>0.0</td>\n",
       "      <td>0.0</td>\n",
       "      <td>0.0</td>\n",
       "      <td>0.0</td>\n",
       "      <td>0.0</td>\n",
       "      <td>0.0</td>\n",
       "      <td>...</td>\n",
       "      <td>0.0</td>\n",
       "      <td>0.0</td>\n",
       "      <td>0.0</td>\n",
       "      <td>0.0</td>\n",
       "      <td>0.0</td>\n",
       "      <td>0.0</td>\n",
       "      <td>0.0</td>\n",
       "      <td>0.0</td>\n",
       "      <td>0.0</td>\n",
       "      <td>0.0</td>\n",
       "    </tr>\n",
       "    <tr>\n",
       "      <th>1</th>\n",
       "      <td>0.0</td>\n",
       "      <td>0.0</td>\n",
       "      <td>0.0</td>\n",
       "      <td>0.0</td>\n",
       "      <td>0.0</td>\n",
       "      <td>0.0</td>\n",
       "      <td>0.0</td>\n",
       "      <td>0.0</td>\n",
       "      <td>0.0</td>\n",
       "      <td>0.0</td>\n",
       "      <td>...</td>\n",
       "      <td>0.0</td>\n",
       "      <td>0.0</td>\n",
       "      <td>0.0</td>\n",
       "      <td>0.0</td>\n",
       "      <td>0.0</td>\n",
       "      <td>0.0</td>\n",
       "      <td>0.0</td>\n",
       "      <td>0.0</td>\n",
       "      <td>0.0</td>\n",
       "      <td>0.0</td>\n",
       "    </tr>\n",
       "    <tr>\n",
       "      <th>2</th>\n",
       "      <td>0.0</td>\n",
       "      <td>0.0</td>\n",
       "      <td>0.0</td>\n",
       "      <td>0.0</td>\n",
       "      <td>0.0</td>\n",
       "      <td>0.0</td>\n",
       "      <td>0.0</td>\n",
       "      <td>0.0</td>\n",
       "      <td>0.0</td>\n",
       "      <td>0.0</td>\n",
       "      <td>...</td>\n",
       "      <td>0.0</td>\n",
       "      <td>0.0</td>\n",
       "      <td>0.0</td>\n",
       "      <td>0.0</td>\n",
       "      <td>0.0</td>\n",
       "      <td>0.0</td>\n",
       "      <td>0.0</td>\n",
       "      <td>0.0</td>\n",
       "      <td>0.0</td>\n",
       "      <td>0.0</td>\n",
       "    </tr>\n",
       "    <tr>\n",
       "      <th>3</th>\n",
       "      <td>0.0</td>\n",
       "      <td>0.0</td>\n",
       "      <td>0.0</td>\n",
       "      <td>0.0</td>\n",
       "      <td>0.0</td>\n",
       "      <td>0.0</td>\n",
       "      <td>0.0</td>\n",
       "      <td>0.0</td>\n",
       "      <td>0.0</td>\n",
       "      <td>0.0</td>\n",
       "      <td>...</td>\n",
       "      <td>0.0</td>\n",
       "      <td>0.0</td>\n",
       "      <td>0.0</td>\n",
       "      <td>0.0</td>\n",
       "      <td>0.0</td>\n",
       "      <td>0.0</td>\n",
       "      <td>0.0</td>\n",
       "      <td>0.0</td>\n",
       "      <td>0.0</td>\n",
       "      <td>0.0</td>\n",
       "    </tr>\n",
       "    <tr>\n",
       "      <th>4</th>\n",
       "      <td>0.0</td>\n",
       "      <td>0.0</td>\n",
       "      <td>0.0</td>\n",
       "      <td>0.0</td>\n",
       "      <td>0.0</td>\n",
       "      <td>0.0</td>\n",
       "      <td>0.0</td>\n",
       "      <td>0.0</td>\n",
       "      <td>0.0</td>\n",
       "      <td>0.0</td>\n",
       "      <td>...</td>\n",
       "      <td>0.0</td>\n",
       "      <td>0.0</td>\n",
       "      <td>0.0</td>\n",
       "      <td>0.0</td>\n",
       "      <td>0.0</td>\n",
       "      <td>0.0</td>\n",
       "      <td>0.0</td>\n",
       "      <td>0.0</td>\n",
       "      <td>0.0</td>\n",
       "      <td>0.0</td>\n",
       "    </tr>\n",
       "  </tbody>\n",
       "</table>\n",
       "<p>5 rows × 7458 columns</p>\n",
       "</div>"
      ],
      "text/plain": [
       "   0     1     2     3     4     5     6     7     8     9     ...  7448  \\\n",
       "0   0.0   0.0   0.0   0.0   0.0   0.0   0.0   0.0   0.0   0.0  ...   0.0   \n",
       "1   0.0   0.0   0.0   0.0   0.0   0.0   0.0   0.0   0.0   0.0  ...   0.0   \n",
       "2   0.0   0.0   0.0   0.0   0.0   0.0   0.0   0.0   0.0   0.0  ...   0.0   \n",
       "3   0.0   0.0   0.0   0.0   0.0   0.0   0.0   0.0   0.0   0.0  ...   0.0   \n",
       "4   0.0   0.0   0.0   0.0   0.0   0.0   0.0   0.0   0.0   0.0  ...   0.0   \n",
       "\n",
       "   7449  7450  7451  7452  7453  7454  7455  7456  7457  \n",
       "0   0.0   0.0   0.0   0.0   0.0   0.0   0.0   0.0   0.0  \n",
       "1   0.0   0.0   0.0   0.0   0.0   0.0   0.0   0.0   0.0  \n",
       "2   0.0   0.0   0.0   0.0   0.0   0.0   0.0   0.0   0.0  \n",
       "3   0.0   0.0   0.0   0.0   0.0   0.0   0.0   0.0   0.0  \n",
       "4   0.0   0.0   0.0   0.0   0.0   0.0   0.0   0.0   0.0  \n",
       "\n",
       "[5 rows x 7458 columns]"
      ]
     },
     "execution_count": 19,
     "metadata": {},
     "output_type": "execute_result"
    }
   ],
   "source": [
    "features=pd.DataFrame(X_transformed)\n",
    "features.head()"
   ]
  },
  {
   "cell_type": "markdown",
   "id": "631d14fe",
   "metadata": {},
   "source": [
    "# Model Building"
   ]
  },
  {
   "cell_type": "code",
   "execution_count": 20,
   "id": "7a8a5f53",
   "metadata": {},
   "outputs": [],
   "source": [
    "from sklearn.model_selection import train_test_split\n",
    "X_train,X_test,y_train,y_test=train_test_split(features,y,test_size=0.2,shuffle=True)"
   ]
  },
  {
   "cell_type": "code",
   "execution_count": 21,
   "id": "79a0a74e",
   "metadata": {},
   "outputs": [
    {
     "data": {
      "text/plain": [
       "((2403, 7458), (601, 7458), (2403,), (601,))"
      ]
     },
     "execution_count": 21,
     "metadata": {},
     "output_type": "execute_result"
    }
   ],
   "source": [
    "X_train.shape,X_test.shape, y_train.shape,y_test.shape"
   ]
  },
  {
   "cell_type": "code",
   "execution_count": 22,
   "id": "bbe6b7cd",
   "metadata": {},
   "outputs": [],
   "source": [
    "from sklearn.ensemble import RandomForestClassifier"
   ]
  },
  {
   "cell_type": "code",
   "execution_count": 23,
   "id": "a31f5b9c",
   "metadata": {},
   "outputs": [],
   "source": [
    "random_forest=RandomForestClassifier(n_estimators=100,\n",
    "                                     min_samples_split=5,\n",
    "                                     min_samples_leaf=1,\n",
    "                                     max_features='auto',max_depth=10).fit(X_train,y_train)"
   ]
  },
  {
   "cell_type": "code",
   "execution_count": 24,
   "id": "61bb0d03",
   "metadata": {},
   "outputs": [
    {
     "data": {
      "text/plain": [
       "0.8901830282861897"
      ]
     },
     "execution_count": 24,
     "metadata": {},
     "output_type": "execute_result"
    }
   ],
   "source": [
    "random_forest.score(X_test,y_test)"
   ]
  },
  {
   "cell_type": "code",
   "execution_count": 25,
   "id": "7be1cfaf",
   "metadata": {},
   "outputs": [],
   "source": [
    "random_forest_predict=random_forest.predict(X_test)"
   ]
  },
  {
   "cell_type": "code",
   "execution_count": 27,
   "id": "ef14f134",
   "metadata": {},
   "outputs": [
    {
     "data": {
      "text/html": [
       "<div>\n",
       "<style scoped>\n",
       "    .dataframe tbody tr th:only-of-type {\n",
       "        vertical-align: middle;\n",
       "    }\n",
       "\n",
       "    .dataframe tbody tr th {\n",
       "        vertical-align: top;\n",
       "    }\n",
       "\n",
       "    .dataframe thead th {\n",
       "        text-align: right;\n",
       "    }\n",
       "</style>\n",
       "<table border=\"1\" class=\"dataframe\">\n",
       "  <thead>\n",
       "    <tr style=\"text-align: right;\">\n",
       "      <th></th>\n",
       "      <th>Real</th>\n",
       "      <th>Predict</th>\n",
       "    </tr>\n",
       "  </thead>\n",
       "  <tbody>\n",
       "    <tr>\n",
       "      <th>0</th>\n",
       "      <td>0.0</td>\n",
       "      <td>0.0</td>\n",
       "    </tr>\n",
       "    <tr>\n",
       "      <th>1</th>\n",
       "      <td>0.0</td>\n",
       "      <td>0.0</td>\n",
       "    </tr>\n",
       "    <tr>\n",
       "      <th>2</th>\n",
       "      <td>0.0</td>\n",
       "      <td>0.0</td>\n",
       "    </tr>\n",
       "    <tr>\n",
       "      <th>3</th>\n",
       "      <td>0.0</td>\n",
       "      <td>0.0</td>\n",
       "    </tr>\n",
       "    <tr>\n",
       "      <th>4</th>\n",
       "      <td>0.0</td>\n",
       "      <td>0.0</td>\n",
       "    </tr>\n",
       "    <tr>\n",
       "      <th>...</th>\n",
       "      <td>...</td>\n",
       "      <td>...</td>\n",
       "    </tr>\n",
       "    <tr>\n",
       "      <th>596</th>\n",
       "      <td>0.0</td>\n",
       "      <td>0.0</td>\n",
       "    </tr>\n",
       "    <tr>\n",
       "      <th>597</th>\n",
       "      <td>1.0</td>\n",
       "      <td>0.0</td>\n",
       "    </tr>\n",
       "    <tr>\n",
       "      <th>598</th>\n",
       "      <td>1.0</td>\n",
       "      <td>0.0</td>\n",
       "    </tr>\n",
       "    <tr>\n",
       "      <th>599</th>\n",
       "      <td>0.0</td>\n",
       "      <td>0.0</td>\n",
       "    </tr>\n",
       "    <tr>\n",
       "      <th>600</th>\n",
       "      <td>0.0</td>\n",
       "      <td>0.0</td>\n",
       "    </tr>\n",
       "  </tbody>\n",
       "</table>\n",
       "<p>601 rows × 2 columns</p>\n",
       "</div>"
      ],
      "text/plain": [
       "     Real  Predict\n",
       "0     0.0      0.0\n",
       "1     0.0      0.0\n",
       "2     0.0      0.0\n",
       "3     0.0      0.0\n",
       "4     0.0      0.0\n",
       "..    ...      ...\n",
       "596   0.0      0.0\n",
       "597   1.0      0.0\n",
       "598   1.0      0.0\n",
       "599   0.0      0.0\n",
       "600   0.0      0.0\n",
       "\n",
       "[601 rows x 2 columns]"
      ]
     },
     "execution_count": 27,
     "metadata": {},
     "output_type": "execute_result"
    }
   ],
   "source": [
    "Y_test=np.array(y_test)\n",
    "compare_random_forest=pd.DataFrame(data=[Y_test,random_forest_predict])\n",
    "compare_random_forest=compare_random_forest.transpose()\n",
    "compare_random_forest.rename(columns={0 :'Real',1:'Predict'},inplace=True)\n",
    "compare_random_forest"
   ]
  },
  {
   "cell_type": "code",
   "execution_count": 28,
   "id": "5c6159b3",
   "metadata": {},
   "outputs": [],
   "source": [
    "from sklearn.model_selection import cross_val_score"
   ]
  },
  {
   "cell_type": "code",
   "execution_count": 29,
   "id": "2eb4da17",
   "metadata": {},
   "outputs": [
    {
     "data": {
      "text/plain": [
       "0.8668438538205981"
      ]
     },
     "execution_count": 29,
     "metadata": {},
     "output_type": "execute_result"
    }
   ],
   "source": [
    "cross_random=cross_val_score(random_forest,features,y,cv=10)\n",
    "np.mean(cross_random)"
   ]
  },
  {
   "cell_type": "code",
   "execution_count": 32,
   "id": "d1e70477",
   "metadata": {},
   "outputs": [
    {
     "name": "stdout",
     "output_type": "stream",
     "text": [
      "10 estimators\n",
      "Accuracy on test set :89.85024958402661%\n",
      "20 estimators\n",
      "Accuracy on test set :90.01663893510815%\n",
      "30 estimators\n",
      "Accuracy on test set :89.85024958402661%\n",
      "40 estimators\n",
      "Accuracy on test set :90.51580698835274%\n",
      "50 estimators\n",
      "Accuracy on test set :89.6838602329451%\n",
      "60 estimators\n",
      "Accuracy on test set :90.01663893510815%\n",
      "70 estimators\n",
      "Accuracy on test set :89.85024958402661%\n",
      "80 estimators\n",
      "Accuracy on test set :90.01663893510815%\n",
      "90 estimators\n",
      "Accuracy on test set :89.51747088186356%\n"
     ]
    }
   ],
   "source": [
    "np.random.seed(50)\n",
    "for i in range(10,100,10):\n",
    "    print(f\"{i} estimators\")\n",
    "    model=RandomForestClassifier(n_estimators=i).fit(X_train,y_train)\n",
    "    print(f\"Accuracy on test set :{model.score(X_test,y_test)* 100}%\")"
   ]
  },
  {
   "cell_type": "code",
   "execution_count": 40,
   "id": "11dea23b",
   "metadata": {},
   "outputs": [],
   "source": [
    "from sklearn.metrics import confusion_matrix,classification_report"
   ]
  },
  {
   "cell_type": "code",
   "execution_count": 38,
   "id": "3b002cd3",
   "metadata": {},
   "outputs": [
    {
     "data": {
      "text/plain": [
       "array([[535,   0],\n",
       "       [ 66,   0]], dtype=int64)"
      ]
     },
     "execution_count": 38,
     "metadata": {},
     "output_type": "execute_result"
    }
   ],
   "source": [
    "confusion= confusion_matrix(y_test,random_forest_predict)\n",
    "confusion"
   ]
  },
  {
   "cell_type": "code",
   "execution_count": null,
   "id": "5ed8437a",
   "metadata": {},
   "outputs": [],
   "source": []
  }
 ],
 "metadata": {
  "kernelspec": {
   "display_name": "Python (Tensorflow)",
   "language": "python",
   "name": "tf2.7"
  },
  "language_info": {
   "codemirror_mode": {
    "name": "ipython",
    "version": 3
   },
   "file_extension": ".py",
   "mimetype": "text/x-python",
   "name": "python",
   "nbconvert_exporter": "python",
   "pygments_lexer": "ipython3",
   "version": "3.8.17"
  }
 },
 "nbformat": 4,
 "nbformat_minor": 5
}
