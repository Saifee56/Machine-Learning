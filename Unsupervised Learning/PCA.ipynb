{
 "cells": [
  {
   "cell_type": "markdown",
   "id": "4413e278",
   "metadata": {},
   "source": [
    "# PCA"
   ]
  },
  {
   "cell_type": "code",
   "execution_count": 1,
   "id": "7870411c",
   "metadata": {},
   "outputs": [],
   "source": [
    "import numpy as np\n",
    "import pandas as pd\n",
    "import matplotlib.pyplot as plt\n",
    "import seaborn as sns"
   ]
  },
  {
   "cell_type": "code",
   "execution_count": 2,
   "id": "1b144c36",
   "metadata": {},
   "outputs": [
    {
     "data": {
      "text/html": [
       "<div>\n",
       "<style scoped>\n",
       "    .dataframe tbody tr th:only-of-type {\n",
       "        vertical-align: middle;\n",
       "    }\n",
       "\n",
       "    .dataframe tbody tr th {\n",
       "        vertical-align: top;\n",
       "    }\n",
       "\n",
       "    .dataframe thead th {\n",
       "        text-align: right;\n",
       "    }\n",
       "</style>\n",
       "<table border=\"1\" class=\"dataframe\">\n",
       "  <thead>\n",
       "    <tr style=\"text-align: right;\">\n",
       "      <th></th>\n",
       "      <th>compactness</th>\n",
       "      <th>circularity</th>\n",
       "      <th>distance_circularity</th>\n",
       "      <th>radius_ratio</th>\n",
       "      <th>pr.axis_aspect_ratio</th>\n",
       "      <th>max.length_aspect_ratio</th>\n",
       "      <th>scatter_ratio</th>\n",
       "      <th>elongatedness</th>\n",
       "      <th>pr.axis_rectangularity</th>\n",
       "      <th>max.length_rectangularity</th>\n",
       "      <th>scaled_variance</th>\n",
       "      <th>scaled_variance.1</th>\n",
       "      <th>scaled_radius_of_gyration</th>\n",
       "      <th>scaled_radius_of_gyration.1</th>\n",
       "      <th>skewness_about</th>\n",
       "      <th>skewness_about.1</th>\n",
       "      <th>skewness_about.2</th>\n",
       "      <th>hollows_ratio</th>\n",
       "      <th>class</th>\n",
       "    </tr>\n",
       "  </thead>\n",
       "  <tbody>\n",
       "    <tr>\n",
       "      <th>0</th>\n",
       "      <td>95</td>\n",
       "      <td>48.0</td>\n",
       "      <td>83.0</td>\n",
       "      <td>178.0</td>\n",
       "      <td>72.0</td>\n",
       "      <td>10</td>\n",
       "      <td>162.0</td>\n",
       "      <td>42.0</td>\n",
       "      <td>20.0</td>\n",
       "      <td>159</td>\n",
       "      <td>176.0</td>\n",
       "      <td>379.0</td>\n",
       "      <td>184.0</td>\n",
       "      <td>70.0</td>\n",
       "      <td>6.0</td>\n",
       "      <td>16.0</td>\n",
       "      <td>187.0</td>\n",
       "      <td>197</td>\n",
       "      <td>van</td>\n",
       "    </tr>\n",
       "    <tr>\n",
       "      <th>1</th>\n",
       "      <td>91</td>\n",
       "      <td>41.0</td>\n",
       "      <td>84.0</td>\n",
       "      <td>141.0</td>\n",
       "      <td>57.0</td>\n",
       "      <td>9</td>\n",
       "      <td>149.0</td>\n",
       "      <td>45.0</td>\n",
       "      <td>19.0</td>\n",
       "      <td>143</td>\n",
       "      <td>170.0</td>\n",
       "      <td>330.0</td>\n",
       "      <td>158.0</td>\n",
       "      <td>72.0</td>\n",
       "      <td>9.0</td>\n",
       "      <td>14.0</td>\n",
       "      <td>189.0</td>\n",
       "      <td>199</td>\n",
       "      <td>van</td>\n",
       "    </tr>\n",
       "    <tr>\n",
       "      <th>2</th>\n",
       "      <td>104</td>\n",
       "      <td>50.0</td>\n",
       "      <td>106.0</td>\n",
       "      <td>209.0</td>\n",
       "      <td>66.0</td>\n",
       "      <td>10</td>\n",
       "      <td>207.0</td>\n",
       "      <td>32.0</td>\n",
       "      <td>23.0</td>\n",
       "      <td>158</td>\n",
       "      <td>223.0</td>\n",
       "      <td>635.0</td>\n",
       "      <td>220.0</td>\n",
       "      <td>73.0</td>\n",
       "      <td>14.0</td>\n",
       "      <td>9.0</td>\n",
       "      <td>188.0</td>\n",
       "      <td>196</td>\n",
       "      <td>car</td>\n",
       "    </tr>\n",
       "    <tr>\n",
       "      <th>3</th>\n",
       "      <td>93</td>\n",
       "      <td>41.0</td>\n",
       "      <td>82.0</td>\n",
       "      <td>159.0</td>\n",
       "      <td>63.0</td>\n",
       "      <td>9</td>\n",
       "      <td>144.0</td>\n",
       "      <td>46.0</td>\n",
       "      <td>19.0</td>\n",
       "      <td>143</td>\n",
       "      <td>160.0</td>\n",
       "      <td>309.0</td>\n",
       "      <td>127.0</td>\n",
       "      <td>63.0</td>\n",
       "      <td>6.0</td>\n",
       "      <td>10.0</td>\n",
       "      <td>199.0</td>\n",
       "      <td>207</td>\n",
       "      <td>van</td>\n",
       "    </tr>\n",
       "    <tr>\n",
       "      <th>4</th>\n",
       "      <td>85</td>\n",
       "      <td>44.0</td>\n",
       "      <td>70.0</td>\n",
       "      <td>205.0</td>\n",
       "      <td>103.0</td>\n",
       "      <td>52</td>\n",
       "      <td>149.0</td>\n",
       "      <td>45.0</td>\n",
       "      <td>19.0</td>\n",
       "      <td>144</td>\n",
       "      <td>241.0</td>\n",
       "      <td>325.0</td>\n",
       "      <td>188.0</td>\n",
       "      <td>127.0</td>\n",
       "      <td>9.0</td>\n",
       "      <td>11.0</td>\n",
       "      <td>180.0</td>\n",
       "      <td>183</td>\n",
       "      <td>bus</td>\n",
       "    </tr>\n",
       "    <tr>\n",
       "      <th>...</th>\n",
       "      <td>...</td>\n",
       "      <td>...</td>\n",
       "      <td>...</td>\n",
       "      <td>...</td>\n",
       "      <td>...</td>\n",
       "      <td>...</td>\n",
       "      <td>...</td>\n",
       "      <td>...</td>\n",
       "      <td>...</td>\n",
       "      <td>...</td>\n",
       "      <td>...</td>\n",
       "      <td>...</td>\n",
       "      <td>...</td>\n",
       "      <td>...</td>\n",
       "      <td>...</td>\n",
       "      <td>...</td>\n",
       "      <td>...</td>\n",
       "      <td>...</td>\n",
       "      <td>...</td>\n",
       "    </tr>\n",
       "    <tr>\n",
       "      <th>840</th>\n",
       "      <td>93</td>\n",
       "      <td>34.0</td>\n",
       "      <td>66.0</td>\n",
       "      <td>140.0</td>\n",
       "      <td>56.0</td>\n",
       "      <td>7</td>\n",
       "      <td>130.0</td>\n",
       "      <td>51.0</td>\n",
       "      <td>18.0</td>\n",
       "      <td>120</td>\n",
       "      <td>151.0</td>\n",
       "      <td>251.0</td>\n",
       "      <td>114.0</td>\n",
       "      <td>62.0</td>\n",
       "      <td>5.0</td>\n",
       "      <td>29.0</td>\n",
       "      <td>201.0</td>\n",
       "      <td>207</td>\n",
       "      <td>car</td>\n",
       "    </tr>\n",
       "    <tr>\n",
       "      <th>841</th>\n",
       "      <td>93</td>\n",
       "      <td>39.0</td>\n",
       "      <td>87.0</td>\n",
       "      <td>183.0</td>\n",
       "      <td>64.0</td>\n",
       "      <td>8</td>\n",
       "      <td>169.0</td>\n",
       "      <td>40.0</td>\n",
       "      <td>20.0</td>\n",
       "      <td>134</td>\n",
       "      <td>200.0</td>\n",
       "      <td>422.0</td>\n",
       "      <td>149.0</td>\n",
       "      <td>72.0</td>\n",
       "      <td>7.0</td>\n",
       "      <td>25.0</td>\n",
       "      <td>188.0</td>\n",
       "      <td>195</td>\n",
       "      <td>car</td>\n",
       "    </tr>\n",
       "    <tr>\n",
       "      <th>842</th>\n",
       "      <td>89</td>\n",
       "      <td>46.0</td>\n",
       "      <td>84.0</td>\n",
       "      <td>163.0</td>\n",
       "      <td>66.0</td>\n",
       "      <td>11</td>\n",
       "      <td>159.0</td>\n",
       "      <td>43.0</td>\n",
       "      <td>20.0</td>\n",
       "      <td>159</td>\n",
       "      <td>173.0</td>\n",
       "      <td>368.0</td>\n",
       "      <td>176.0</td>\n",
       "      <td>72.0</td>\n",
       "      <td>1.0</td>\n",
       "      <td>20.0</td>\n",
       "      <td>186.0</td>\n",
       "      <td>197</td>\n",
       "      <td>van</td>\n",
       "    </tr>\n",
       "    <tr>\n",
       "      <th>843</th>\n",
       "      <td>106</td>\n",
       "      <td>54.0</td>\n",
       "      <td>101.0</td>\n",
       "      <td>222.0</td>\n",
       "      <td>67.0</td>\n",
       "      <td>12</td>\n",
       "      <td>222.0</td>\n",
       "      <td>30.0</td>\n",
       "      <td>25.0</td>\n",
       "      <td>173</td>\n",
       "      <td>228.0</td>\n",
       "      <td>721.0</td>\n",
       "      <td>200.0</td>\n",
       "      <td>70.0</td>\n",
       "      <td>3.0</td>\n",
       "      <td>4.0</td>\n",
       "      <td>187.0</td>\n",
       "      <td>201</td>\n",
       "      <td>car</td>\n",
       "    </tr>\n",
       "    <tr>\n",
       "      <th>844</th>\n",
       "      <td>86</td>\n",
       "      <td>36.0</td>\n",
       "      <td>78.0</td>\n",
       "      <td>146.0</td>\n",
       "      <td>58.0</td>\n",
       "      <td>7</td>\n",
       "      <td>135.0</td>\n",
       "      <td>50.0</td>\n",
       "      <td>18.0</td>\n",
       "      <td>124</td>\n",
       "      <td>155.0</td>\n",
       "      <td>270.0</td>\n",
       "      <td>148.0</td>\n",
       "      <td>66.0</td>\n",
       "      <td>0.0</td>\n",
       "      <td>25.0</td>\n",
       "      <td>190.0</td>\n",
       "      <td>195</td>\n",
       "      <td>car</td>\n",
       "    </tr>\n",
       "  </tbody>\n",
       "</table>\n",
       "<p>845 rows × 19 columns</p>\n",
       "</div>"
      ],
      "text/plain": [
       "     compactness  circularity  distance_circularity  radius_ratio  \\\n",
       "0             95         48.0                  83.0         178.0   \n",
       "1             91         41.0                  84.0         141.0   \n",
       "2            104         50.0                 106.0         209.0   \n",
       "3             93         41.0                  82.0         159.0   \n",
       "4             85         44.0                  70.0         205.0   \n",
       "..           ...          ...                   ...           ...   \n",
       "840           93         34.0                  66.0         140.0   \n",
       "841           93         39.0                  87.0         183.0   \n",
       "842           89         46.0                  84.0         163.0   \n",
       "843          106         54.0                 101.0         222.0   \n",
       "844           86         36.0                  78.0         146.0   \n",
       "\n",
       "     pr.axis_aspect_ratio  max.length_aspect_ratio  scatter_ratio  \\\n",
       "0                    72.0                       10          162.0   \n",
       "1                    57.0                        9          149.0   \n",
       "2                    66.0                       10          207.0   \n",
       "3                    63.0                        9          144.0   \n",
       "4                   103.0                       52          149.0   \n",
       "..                    ...                      ...            ...   \n",
       "840                  56.0                        7          130.0   \n",
       "841                  64.0                        8          169.0   \n",
       "842                  66.0                       11          159.0   \n",
       "843                  67.0                       12          222.0   \n",
       "844                  58.0                        7          135.0   \n",
       "\n",
       "     elongatedness  pr.axis_rectangularity  max.length_rectangularity  \\\n",
       "0             42.0                    20.0                        159   \n",
       "1             45.0                    19.0                        143   \n",
       "2             32.0                    23.0                        158   \n",
       "3             46.0                    19.0                        143   \n",
       "4             45.0                    19.0                        144   \n",
       "..             ...                     ...                        ...   \n",
       "840           51.0                    18.0                        120   \n",
       "841           40.0                    20.0                        134   \n",
       "842           43.0                    20.0                        159   \n",
       "843           30.0                    25.0                        173   \n",
       "844           50.0                    18.0                        124   \n",
       "\n",
       "     scaled_variance  scaled_variance.1  scaled_radius_of_gyration  \\\n",
       "0              176.0              379.0                      184.0   \n",
       "1              170.0              330.0                      158.0   \n",
       "2              223.0              635.0                      220.0   \n",
       "3              160.0              309.0                      127.0   \n",
       "4              241.0              325.0                      188.0   \n",
       "..               ...                ...                        ...   \n",
       "840            151.0              251.0                      114.0   \n",
       "841            200.0              422.0                      149.0   \n",
       "842            173.0              368.0                      176.0   \n",
       "843            228.0              721.0                      200.0   \n",
       "844            155.0              270.0                      148.0   \n",
       "\n",
       "     scaled_radius_of_gyration.1  skewness_about  skewness_about.1  \\\n",
       "0                           70.0             6.0              16.0   \n",
       "1                           72.0             9.0              14.0   \n",
       "2                           73.0            14.0               9.0   \n",
       "3                           63.0             6.0              10.0   \n",
       "4                          127.0             9.0              11.0   \n",
       "..                           ...             ...               ...   \n",
       "840                         62.0             5.0              29.0   \n",
       "841                         72.0             7.0              25.0   \n",
       "842                         72.0             1.0              20.0   \n",
       "843                         70.0             3.0               4.0   \n",
       "844                         66.0             0.0              25.0   \n",
       "\n",
       "     skewness_about.2  hollows_ratio class  \n",
       "0               187.0            197   van  \n",
       "1               189.0            199   van  \n",
       "2               188.0            196   car  \n",
       "3               199.0            207   van  \n",
       "4               180.0            183   bus  \n",
       "..                ...            ...   ...  \n",
       "840             201.0            207   car  \n",
       "841             188.0            195   car  \n",
       "842             186.0            197   van  \n",
       "843             187.0            201   car  \n",
       "844             190.0            195   car  \n",
       "\n",
       "[845 rows x 19 columns]"
      ]
     },
     "execution_count": 2,
     "metadata": {},
     "output_type": "execute_result"
    }
   ],
   "source": [
    "df=pd.read_csv('pca.csv')\n",
    "df"
   ]
  },
  {
   "cell_type": "code",
   "execution_count": 3,
   "id": "e56f06c3",
   "metadata": {},
   "outputs": [
    {
     "data": {
      "text/html": [
       "<div>\n",
       "<style scoped>\n",
       "    .dataframe tbody tr th:only-of-type {\n",
       "        vertical-align: middle;\n",
       "    }\n",
       "\n",
       "    .dataframe tbody tr th {\n",
       "        vertical-align: top;\n",
       "    }\n",
       "\n",
       "    .dataframe thead th {\n",
       "        text-align: right;\n",
       "    }\n",
       "</style>\n",
       "<table border=\"1\" class=\"dataframe\">\n",
       "  <thead>\n",
       "    <tr style=\"text-align: right;\">\n",
       "      <th></th>\n",
       "      <th>compactness</th>\n",
       "      <th>circularity</th>\n",
       "      <th>distance_circularity</th>\n",
       "      <th>radius_ratio</th>\n",
       "      <th>pr.axis_aspect_ratio</th>\n",
       "      <th>max.length_aspect_ratio</th>\n",
       "      <th>scatter_ratio</th>\n",
       "      <th>elongatedness</th>\n",
       "      <th>pr.axis_rectangularity</th>\n",
       "      <th>max.length_rectangularity</th>\n",
       "      <th>scaled_variance</th>\n",
       "      <th>scaled_variance.1</th>\n",
       "      <th>scaled_radius_of_gyration</th>\n",
       "      <th>scaled_radius_of_gyration.1</th>\n",
       "      <th>skewness_about</th>\n",
       "      <th>skewness_about.1</th>\n",
       "      <th>skewness_about.2</th>\n",
       "      <th>hollows_ratio</th>\n",
       "      <th>class</th>\n",
       "    </tr>\n",
       "  </thead>\n",
       "  <tbody>\n",
       "    <tr>\n",
       "      <th>840</th>\n",
       "      <td>93</td>\n",
       "      <td>34.0</td>\n",
       "      <td>66.0</td>\n",
       "      <td>140.0</td>\n",
       "      <td>56.0</td>\n",
       "      <td>7</td>\n",
       "      <td>130.0</td>\n",
       "      <td>51.0</td>\n",
       "      <td>18.0</td>\n",
       "      <td>120</td>\n",
       "      <td>151.0</td>\n",
       "      <td>251.0</td>\n",
       "      <td>114.0</td>\n",
       "      <td>62.0</td>\n",
       "      <td>5.0</td>\n",
       "      <td>29.0</td>\n",
       "      <td>201.0</td>\n",
       "      <td>207</td>\n",
       "      <td>car</td>\n",
       "    </tr>\n",
       "    <tr>\n",
       "      <th>841</th>\n",
       "      <td>93</td>\n",
       "      <td>39.0</td>\n",
       "      <td>87.0</td>\n",
       "      <td>183.0</td>\n",
       "      <td>64.0</td>\n",
       "      <td>8</td>\n",
       "      <td>169.0</td>\n",
       "      <td>40.0</td>\n",
       "      <td>20.0</td>\n",
       "      <td>134</td>\n",
       "      <td>200.0</td>\n",
       "      <td>422.0</td>\n",
       "      <td>149.0</td>\n",
       "      <td>72.0</td>\n",
       "      <td>7.0</td>\n",
       "      <td>25.0</td>\n",
       "      <td>188.0</td>\n",
       "      <td>195</td>\n",
       "      <td>car</td>\n",
       "    </tr>\n",
       "    <tr>\n",
       "      <th>842</th>\n",
       "      <td>89</td>\n",
       "      <td>46.0</td>\n",
       "      <td>84.0</td>\n",
       "      <td>163.0</td>\n",
       "      <td>66.0</td>\n",
       "      <td>11</td>\n",
       "      <td>159.0</td>\n",
       "      <td>43.0</td>\n",
       "      <td>20.0</td>\n",
       "      <td>159</td>\n",
       "      <td>173.0</td>\n",
       "      <td>368.0</td>\n",
       "      <td>176.0</td>\n",
       "      <td>72.0</td>\n",
       "      <td>1.0</td>\n",
       "      <td>20.0</td>\n",
       "      <td>186.0</td>\n",
       "      <td>197</td>\n",
       "      <td>van</td>\n",
       "    </tr>\n",
       "    <tr>\n",
       "      <th>843</th>\n",
       "      <td>106</td>\n",
       "      <td>54.0</td>\n",
       "      <td>101.0</td>\n",
       "      <td>222.0</td>\n",
       "      <td>67.0</td>\n",
       "      <td>12</td>\n",
       "      <td>222.0</td>\n",
       "      <td>30.0</td>\n",
       "      <td>25.0</td>\n",
       "      <td>173</td>\n",
       "      <td>228.0</td>\n",
       "      <td>721.0</td>\n",
       "      <td>200.0</td>\n",
       "      <td>70.0</td>\n",
       "      <td>3.0</td>\n",
       "      <td>4.0</td>\n",
       "      <td>187.0</td>\n",
       "      <td>201</td>\n",
       "      <td>car</td>\n",
       "    </tr>\n",
       "    <tr>\n",
       "      <th>844</th>\n",
       "      <td>86</td>\n",
       "      <td>36.0</td>\n",
       "      <td>78.0</td>\n",
       "      <td>146.0</td>\n",
       "      <td>58.0</td>\n",
       "      <td>7</td>\n",
       "      <td>135.0</td>\n",
       "      <td>50.0</td>\n",
       "      <td>18.0</td>\n",
       "      <td>124</td>\n",
       "      <td>155.0</td>\n",
       "      <td>270.0</td>\n",
       "      <td>148.0</td>\n",
       "      <td>66.0</td>\n",
       "      <td>0.0</td>\n",
       "      <td>25.0</td>\n",
       "      <td>190.0</td>\n",
       "      <td>195</td>\n",
       "      <td>car</td>\n",
       "    </tr>\n",
       "  </tbody>\n",
       "</table>\n",
       "</div>"
      ],
      "text/plain": [
       "     compactness  circularity  distance_circularity  radius_ratio  \\\n",
       "840           93         34.0                  66.0         140.0   \n",
       "841           93         39.0                  87.0         183.0   \n",
       "842           89         46.0                  84.0         163.0   \n",
       "843          106         54.0                 101.0         222.0   \n",
       "844           86         36.0                  78.0         146.0   \n",
       "\n",
       "     pr.axis_aspect_ratio  max.length_aspect_ratio  scatter_ratio  \\\n",
       "840                  56.0                        7          130.0   \n",
       "841                  64.0                        8          169.0   \n",
       "842                  66.0                       11          159.0   \n",
       "843                  67.0                       12          222.0   \n",
       "844                  58.0                        7          135.0   \n",
       "\n",
       "     elongatedness  pr.axis_rectangularity  max.length_rectangularity  \\\n",
       "840           51.0                    18.0                        120   \n",
       "841           40.0                    20.0                        134   \n",
       "842           43.0                    20.0                        159   \n",
       "843           30.0                    25.0                        173   \n",
       "844           50.0                    18.0                        124   \n",
       "\n",
       "     scaled_variance  scaled_variance.1  scaled_radius_of_gyration  \\\n",
       "840            151.0              251.0                      114.0   \n",
       "841            200.0              422.0                      149.0   \n",
       "842            173.0              368.0                      176.0   \n",
       "843            228.0              721.0                      200.0   \n",
       "844            155.0              270.0                      148.0   \n",
       "\n",
       "     scaled_radius_of_gyration.1  skewness_about  skewness_about.1  \\\n",
       "840                         62.0             5.0              29.0   \n",
       "841                         72.0             7.0              25.0   \n",
       "842                         72.0             1.0              20.0   \n",
       "843                         70.0             3.0               4.0   \n",
       "844                         66.0             0.0              25.0   \n",
       "\n",
       "     skewness_about.2  hollows_ratio class  \n",
       "840             201.0            207   car  \n",
       "841             188.0            195   car  \n",
       "842             186.0            197   van  \n",
       "843             187.0            201   car  \n",
       "844             190.0            195   car  "
      ]
     },
     "execution_count": 3,
     "metadata": {},
     "output_type": "execute_result"
    }
   ],
   "source": [
    "df.tail()"
   ]
  },
  {
   "cell_type": "code",
   "execution_count": 4,
   "id": "914b761b",
   "metadata": {},
   "outputs": [
    {
     "data": {
      "text/plain": [
       "compactness                      int64\n",
       "circularity                    float64\n",
       "distance_circularity           float64\n",
       "radius_ratio                   float64\n",
       "pr.axis_aspect_ratio           float64\n",
       "max.length_aspect_ratio          int64\n",
       "scatter_ratio                  float64\n",
       "elongatedness                  float64\n",
       "pr.axis_rectangularity         float64\n",
       "max.length_rectangularity        int64\n",
       "scaled_variance                float64\n",
       "scaled_variance.1              float64\n",
       "scaled_radius_of_gyration      float64\n",
       "scaled_radius_of_gyration.1    float64\n",
       "skewness_about                 float64\n",
       "skewness_about.1               float64\n",
       "skewness_about.2               float64\n",
       "hollows_ratio                    int64\n",
       "class                           object\n",
       "dtype: object"
      ]
     },
     "execution_count": 4,
     "metadata": {},
     "output_type": "execute_result"
    }
   ],
   "source": [
    "df.dtypes"
   ]
  },
  {
   "cell_type": "code",
   "execution_count": 5,
   "id": "e3739415",
   "metadata": {},
   "outputs": [
    {
     "name": "stdout",
     "output_type": "stream",
     "text": [
      "<class 'pandas.core.frame.DataFrame'>\n",
      "RangeIndex: 845 entries, 0 to 844\n",
      "Data columns (total 19 columns):\n",
      " #   Column                       Non-Null Count  Dtype  \n",
      "---  ------                       --------------  -----  \n",
      " 0   compactness                  845 non-null    int64  \n",
      " 1   circularity                  840 non-null    float64\n",
      " 2   distance_circularity         841 non-null    float64\n",
      " 3   radius_ratio                 839 non-null    float64\n",
      " 4   pr.axis_aspect_ratio         843 non-null    float64\n",
      " 5   max.length_aspect_ratio      845 non-null    int64  \n",
      " 6   scatter_ratio                844 non-null    float64\n",
      " 7   elongatedness                844 non-null    float64\n",
      " 8   pr.axis_rectangularity       842 non-null    float64\n",
      " 9   max.length_rectangularity    845 non-null    int64  \n",
      " 10  scaled_variance              842 non-null    float64\n",
      " 11  scaled_variance.1            843 non-null    float64\n",
      " 12  scaled_radius_of_gyration    843 non-null    float64\n",
      " 13  scaled_radius_of_gyration.1  841 non-null    float64\n",
      " 14  skewness_about               839 non-null    float64\n",
      " 15  skewness_about.1             844 non-null    float64\n",
      " 16  skewness_about.2             844 non-null    float64\n",
      " 17  hollows_ratio                845 non-null    int64  \n",
      " 18  class                        845 non-null    object \n",
      "dtypes: float64(14), int64(4), object(1)\n",
      "memory usage: 125.6+ KB\n"
     ]
    }
   ],
   "source": [
    "df.info()"
   ]
  },
  {
   "cell_type": "code",
   "execution_count": 6,
   "id": "96a243c7",
   "metadata": {},
   "outputs": [
    {
     "data": {
      "text/plain": [
       "(845, 19)"
      ]
     },
     "execution_count": 6,
     "metadata": {},
     "output_type": "execute_result"
    }
   ],
   "source": [
    "df.shape"
   ]
  },
  {
   "cell_type": "code",
   "execution_count": 7,
   "id": "ba187d62",
   "metadata": {},
   "outputs": [
    {
     "data": {
      "text/html": [
       "<div>\n",
       "<style scoped>\n",
       "    .dataframe tbody tr th:only-of-type {\n",
       "        vertical-align: middle;\n",
       "    }\n",
       "\n",
       "    .dataframe tbody tr th {\n",
       "        vertical-align: top;\n",
       "    }\n",
       "\n",
       "    .dataframe thead th {\n",
       "        text-align: right;\n",
       "    }\n",
       "</style>\n",
       "<table border=\"1\" class=\"dataframe\">\n",
       "  <thead>\n",
       "    <tr style=\"text-align: right;\">\n",
       "      <th></th>\n",
       "      <th>compactness</th>\n",
       "      <th>circularity</th>\n",
       "      <th>distance_circularity</th>\n",
       "      <th>radius_ratio</th>\n",
       "      <th>pr.axis_aspect_ratio</th>\n",
       "      <th>max.length_aspect_ratio</th>\n",
       "      <th>scatter_ratio</th>\n",
       "      <th>elongatedness</th>\n",
       "      <th>pr.axis_rectangularity</th>\n",
       "      <th>max.length_rectangularity</th>\n",
       "      <th>scaled_variance</th>\n",
       "      <th>scaled_variance.1</th>\n",
       "      <th>scaled_radius_of_gyration</th>\n",
       "      <th>scaled_radius_of_gyration.1</th>\n",
       "      <th>skewness_about</th>\n",
       "      <th>skewness_about.1</th>\n",
       "      <th>skewness_about.2</th>\n",
       "      <th>hollows_ratio</th>\n",
       "    </tr>\n",
       "  </thead>\n",
       "  <tbody>\n",
       "    <tr>\n",
       "      <th>count</th>\n",
       "      <td>845.000000</td>\n",
       "      <td>840.000000</td>\n",
       "      <td>841.000000</td>\n",
       "      <td>839.000000</td>\n",
       "      <td>843.000000</td>\n",
       "      <td>845.000000</td>\n",
       "      <td>844.000000</td>\n",
       "      <td>844.000000</td>\n",
       "      <td>842.000000</td>\n",
       "      <td>845.000000</td>\n",
       "      <td>842.000000</td>\n",
       "      <td>843.000000</td>\n",
       "      <td>843.000000</td>\n",
       "      <td>841.000000</td>\n",
       "      <td>839.000000</td>\n",
       "      <td>844.000000</td>\n",
       "      <td>844.000000</td>\n",
       "      <td>845.000000</td>\n",
       "    </tr>\n",
       "    <tr>\n",
       "      <th>mean</th>\n",
       "      <td>93.688757</td>\n",
       "      <td>44.839286</td>\n",
       "      <td>82.129608</td>\n",
       "      <td>168.942789</td>\n",
       "      <td>61.686833</td>\n",
       "      <td>8.571598</td>\n",
       "      <td>168.959716</td>\n",
       "      <td>40.915877</td>\n",
       "      <td>20.586698</td>\n",
       "      <td>148.022485</td>\n",
       "      <td>188.688836</td>\n",
       "      <td>439.763938</td>\n",
       "      <td>174.761566</td>\n",
       "      <td>72.447087</td>\n",
       "      <td>6.370679</td>\n",
       "      <td>12.595972</td>\n",
       "      <td>188.922986</td>\n",
       "      <td>195.639053</td>\n",
       "    </tr>\n",
       "    <tr>\n",
       "      <th>std</th>\n",
       "      <td>8.233928</td>\n",
       "      <td>6.148277</td>\n",
       "      <td>15.777881</td>\n",
       "      <td>33.502667</td>\n",
       "      <td>7.892788</td>\n",
       "      <td>4.602302</td>\n",
       "      <td>33.191787</td>\n",
       "      <td>7.803566</td>\n",
       "      <td>2.591528</td>\n",
       "      <td>14.507907</td>\n",
       "      <td>31.384851</td>\n",
       "      <td>176.597634</td>\n",
       "      <td>32.569295</td>\n",
       "      <td>7.490621</td>\n",
       "      <td>4.920092</td>\n",
       "      <td>8.939445</td>\n",
       "      <td>6.158638</td>\n",
       "      <td>7.440675</td>\n",
       "    </tr>\n",
       "    <tr>\n",
       "      <th>min</th>\n",
       "      <td>73.000000</td>\n",
       "      <td>33.000000</td>\n",
       "      <td>40.000000</td>\n",
       "      <td>104.000000</td>\n",
       "      <td>47.000000</td>\n",
       "      <td>2.000000</td>\n",
       "      <td>112.000000</td>\n",
       "      <td>26.000000</td>\n",
       "      <td>17.000000</td>\n",
       "      <td>118.000000</td>\n",
       "      <td>130.000000</td>\n",
       "      <td>184.000000</td>\n",
       "      <td>109.000000</td>\n",
       "      <td>59.000000</td>\n",
       "      <td>0.000000</td>\n",
       "      <td>0.000000</td>\n",
       "      <td>176.000000</td>\n",
       "      <td>181.000000</td>\n",
       "    </tr>\n",
       "    <tr>\n",
       "      <th>25%</th>\n",
       "      <td>87.000000</td>\n",
       "      <td>40.000000</td>\n",
       "      <td>70.000000</td>\n",
       "      <td>141.000000</td>\n",
       "      <td>57.000000</td>\n",
       "      <td>7.000000</td>\n",
       "      <td>147.000000</td>\n",
       "      <td>33.000000</td>\n",
       "      <td>19.000000</td>\n",
       "      <td>137.000000</td>\n",
       "      <td>167.000000</td>\n",
       "      <td>318.500000</td>\n",
       "      <td>149.000000</td>\n",
       "      <td>67.000000</td>\n",
       "      <td>2.000000</td>\n",
       "      <td>5.000000</td>\n",
       "      <td>184.000000</td>\n",
       "      <td>191.000000</td>\n",
       "    </tr>\n",
       "    <tr>\n",
       "      <th>50%</th>\n",
       "      <td>93.000000</td>\n",
       "      <td>44.000000</td>\n",
       "      <td>80.000000</td>\n",
       "      <td>167.000000</td>\n",
       "      <td>61.000000</td>\n",
       "      <td>8.000000</td>\n",
       "      <td>157.000000</td>\n",
       "      <td>43.000000</td>\n",
       "      <td>20.000000</td>\n",
       "      <td>146.000000</td>\n",
       "      <td>179.000000</td>\n",
       "      <td>364.000000</td>\n",
       "      <td>174.000000</td>\n",
       "      <td>71.000000</td>\n",
       "      <td>6.000000</td>\n",
       "      <td>11.000000</td>\n",
       "      <td>188.000000</td>\n",
       "      <td>197.000000</td>\n",
       "    </tr>\n",
       "    <tr>\n",
       "      <th>75%</th>\n",
       "      <td>100.000000</td>\n",
       "      <td>49.000000</td>\n",
       "      <td>98.000000</td>\n",
       "      <td>195.000000</td>\n",
       "      <td>65.000000</td>\n",
       "      <td>10.000000</td>\n",
       "      <td>198.000000</td>\n",
       "      <td>46.000000</td>\n",
       "      <td>23.000000</td>\n",
       "      <td>159.000000</td>\n",
       "      <td>217.000000</td>\n",
       "      <td>587.000000</td>\n",
       "      <td>198.000000</td>\n",
       "      <td>75.000000</td>\n",
       "      <td>9.000000</td>\n",
       "      <td>19.000000</td>\n",
       "      <td>193.000000</td>\n",
       "      <td>201.000000</td>\n",
       "    </tr>\n",
       "    <tr>\n",
       "      <th>max</th>\n",
       "      <td>119.000000</td>\n",
       "      <td>59.000000</td>\n",
       "      <td>112.000000</td>\n",
       "      <td>333.000000</td>\n",
       "      <td>138.000000</td>\n",
       "      <td>55.000000</td>\n",
       "      <td>265.000000</td>\n",
       "      <td>61.000000</td>\n",
       "      <td>29.000000</td>\n",
       "      <td>188.000000</td>\n",
       "      <td>320.000000</td>\n",
       "      <td>1018.000000</td>\n",
       "      <td>268.000000</td>\n",
       "      <td>135.000000</td>\n",
       "      <td>22.000000</td>\n",
       "      <td>41.000000</td>\n",
       "      <td>206.000000</td>\n",
       "      <td>211.000000</td>\n",
       "    </tr>\n",
       "  </tbody>\n",
       "</table>\n",
       "</div>"
      ],
      "text/plain": [
       "       compactness  circularity  distance_circularity  radius_ratio  \\\n",
       "count   845.000000   840.000000            841.000000    839.000000   \n",
       "mean     93.688757    44.839286             82.129608    168.942789   \n",
       "std       8.233928     6.148277             15.777881     33.502667   \n",
       "min      73.000000    33.000000             40.000000    104.000000   \n",
       "25%      87.000000    40.000000             70.000000    141.000000   \n",
       "50%      93.000000    44.000000             80.000000    167.000000   \n",
       "75%     100.000000    49.000000             98.000000    195.000000   \n",
       "max     119.000000    59.000000            112.000000    333.000000   \n",
       "\n",
       "       pr.axis_aspect_ratio  max.length_aspect_ratio  scatter_ratio  \\\n",
       "count            843.000000               845.000000     844.000000   \n",
       "mean              61.686833                 8.571598     168.959716   \n",
       "std                7.892788                 4.602302      33.191787   \n",
       "min               47.000000                 2.000000     112.000000   \n",
       "25%               57.000000                 7.000000     147.000000   \n",
       "50%               61.000000                 8.000000     157.000000   \n",
       "75%               65.000000                10.000000     198.000000   \n",
       "max              138.000000                55.000000     265.000000   \n",
       "\n",
       "       elongatedness  pr.axis_rectangularity  max.length_rectangularity  \\\n",
       "count     844.000000              842.000000                 845.000000   \n",
       "mean       40.915877               20.586698                 148.022485   \n",
       "std         7.803566                2.591528                  14.507907   \n",
       "min        26.000000               17.000000                 118.000000   \n",
       "25%        33.000000               19.000000                 137.000000   \n",
       "50%        43.000000               20.000000                 146.000000   \n",
       "75%        46.000000               23.000000                 159.000000   \n",
       "max        61.000000               29.000000                 188.000000   \n",
       "\n",
       "       scaled_variance  scaled_variance.1  scaled_radius_of_gyration  \\\n",
       "count       842.000000         843.000000                 843.000000   \n",
       "mean        188.688836         439.763938                 174.761566   \n",
       "std          31.384851         176.597634                  32.569295   \n",
       "min         130.000000         184.000000                 109.000000   \n",
       "25%         167.000000         318.500000                 149.000000   \n",
       "50%         179.000000         364.000000                 174.000000   \n",
       "75%         217.000000         587.000000                 198.000000   \n",
       "max         320.000000        1018.000000                 268.000000   \n",
       "\n",
       "       scaled_radius_of_gyration.1  skewness_about  skewness_about.1  \\\n",
       "count                   841.000000      839.000000        844.000000   \n",
       "mean                     72.447087        6.370679         12.595972   \n",
       "std                       7.490621        4.920092          8.939445   \n",
       "min                      59.000000        0.000000          0.000000   \n",
       "25%                      67.000000        2.000000          5.000000   \n",
       "50%                      71.000000        6.000000         11.000000   \n",
       "75%                      75.000000        9.000000         19.000000   \n",
       "max                     135.000000       22.000000         41.000000   \n",
       "\n",
       "       skewness_about.2  hollows_ratio  \n",
       "count        844.000000     845.000000  \n",
       "mean         188.922986     195.639053  \n",
       "std            6.158638       7.440675  \n",
       "min          176.000000     181.000000  \n",
       "25%          184.000000     191.000000  \n",
       "50%          188.000000     197.000000  \n",
       "75%          193.000000     201.000000  \n",
       "max          206.000000     211.000000  "
      ]
     },
     "execution_count": 7,
     "metadata": {},
     "output_type": "execute_result"
    }
   ],
   "source": [
    "df.describe()"
   ]
  },
  {
   "cell_type": "markdown",
   "id": "860f66e7",
   "metadata": {},
   "source": [
    "# Data PreProcessing"
   ]
  },
  {
   "cell_type": "code",
   "execution_count": 8,
   "id": "6708a76b",
   "metadata": {},
   "outputs": [
    {
     "data": {
      "text/plain": [
       "compactness                    0\n",
       "circularity                    5\n",
       "distance_circularity           4\n",
       "radius_ratio                   6\n",
       "pr.axis_aspect_ratio           2\n",
       "max.length_aspect_ratio        0\n",
       "scatter_ratio                  1\n",
       "elongatedness                  1\n",
       "pr.axis_rectangularity         3\n",
       "max.length_rectangularity      0\n",
       "scaled_variance                3\n",
       "scaled_variance.1              2\n",
       "scaled_radius_of_gyration      2\n",
       "scaled_radius_of_gyration.1    4\n",
       "skewness_about                 6\n",
       "skewness_about.1               1\n",
       "skewness_about.2               1\n",
       "hollows_ratio                  0\n",
       "class                          0\n",
       "dtype: int64"
      ]
     },
     "execution_count": 8,
     "metadata": {},
     "output_type": "execute_result"
    }
   ],
   "source": [
    "df.isnull().sum()"
   ]
  },
  {
   "cell_type": "code",
   "execution_count": 12,
   "id": "29210445",
   "metadata": {},
   "outputs": [],
   "source": [
    "df = df.fillna(df.mode().iloc[0])"
   ]
  },
  {
   "cell_type": "code",
   "execution_count": 13,
   "id": "c555ca67",
   "metadata": {},
   "outputs": [
    {
     "data": {
      "text/plain": [
       "compactness                    0\n",
       "circularity                    0\n",
       "distance_circularity           0\n",
       "radius_ratio                   0\n",
       "pr.axis_aspect_ratio           0\n",
       "max.length_aspect_ratio        0\n",
       "scatter_ratio                  0\n",
       "elongatedness                  0\n",
       "pr.axis_rectangularity         0\n",
       "max.length_rectangularity      0\n",
       "scaled_variance                0\n",
       "scaled_variance.1              0\n",
       "scaled_radius_of_gyration      0\n",
       "scaled_radius_of_gyration.1    0\n",
       "skewness_about                 0\n",
       "skewness_about.1               0\n",
       "skewness_about.2               0\n",
       "hollows_ratio                  0\n",
       "class                          0\n",
       "dtype: int64"
      ]
     },
     "execution_count": 13,
     "metadata": {},
     "output_type": "execute_result"
    }
   ],
   "source": [
    "df.isnull().sum()"
   ]
  },
  {
   "cell_type": "markdown",
   "id": "9ebc2246",
   "metadata": {},
   "source": [
    "# EDA"
   ]
  },
  {
   "cell_type": "code",
   "execution_count": 14,
   "id": "e2d09713",
   "metadata": {},
   "outputs": [
    {
     "data": {
      "text/html": [
       "<div>\n",
       "<style scoped>\n",
       "    .dataframe tbody tr th:only-of-type {\n",
       "        vertical-align: middle;\n",
       "    }\n",
       "\n",
       "    .dataframe tbody tr th {\n",
       "        vertical-align: top;\n",
       "    }\n",
       "\n",
       "    .dataframe thead th {\n",
       "        text-align: right;\n",
       "    }\n",
       "</style>\n",
       "<table border=\"1\" class=\"dataframe\">\n",
       "  <thead>\n",
       "    <tr style=\"text-align: right;\">\n",
       "      <th></th>\n",
       "      <th>compactness</th>\n",
       "      <th>circularity</th>\n",
       "      <th>distance_circularity</th>\n",
       "      <th>radius_ratio</th>\n",
       "      <th>pr.axis_aspect_ratio</th>\n",
       "      <th>max.length_aspect_ratio</th>\n",
       "      <th>scatter_ratio</th>\n",
       "      <th>elongatedness</th>\n",
       "      <th>pr.axis_rectangularity</th>\n",
       "      <th>max.length_rectangularity</th>\n",
       "      <th>scaled_variance</th>\n",
       "      <th>scaled_variance.1</th>\n",
       "      <th>scaled_radius_of_gyration</th>\n",
       "      <th>scaled_radius_of_gyration.1</th>\n",
       "      <th>skewness_about</th>\n",
       "      <th>skewness_about.1</th>\n",
       "      <th>skewness_about.2</th>\n",
       "      <th>hollows_ratio</th>\n",
       "    </tr>\n",
       "    <tr>\n",
       "      <th>class</th>\n",
       "      <th></th>\n",
       "      <th></th>\n",
       "      <th></th>\n",
       "      <th></th>\n",
       "      <th></th>\n",
       "      <th></th>\n",
       "      <th></th>\n",
       "      <th></th>\n",
       "      <th></th>\n",
       "      <th></th>\n",
       "      <th></th>\n",
       "      <th></th>\n",
       "      <th></th>\n",
       "      <th></th>\n",
       "      <th></th>\n",
       "      <th></th>\n",
       "      <th></th>\n",
       "      <th></th>\n",
       "    </tr>\n",
       "  </thead>\n",
       "  <tbody>\n",
       "    <tr>\n",
       "      <th>bus</th>\n",
       "      <td>218</td>\n",
       "      <td>218</td>\n",
       "      <td>218</td>\n",
       "      <td>218</td>\n",
       "      <td>218</td>\n",
       "      <td>218</td>\n",
       "      <td>218</td>\n",
       "      <td>218</td>\n",
       "      <td>218</td>\n",
       "      <td>218</td>\n",
       "      <td>218</td>\n",
       "      <td>218</td>\n",
       "      <td>218</td>\n",
       "      <td>218</td>\n",
       "      <td>218</td>\n",
       "      <td>218</td>\n",
       "      <td>218</td>\n",
       "      <td>218</td>\n",
       "    </tr>\n",
       "    <tr>\n",
       "      <th>car</th>\n",
       "      <td>429</td>\n",
       "      <td>429</td>\n",
       "      <td>429</td>\n",
       "      <td>429</td>\n",
       "      <td>429</td>\n",
       "      <td>429</td>\n",
       "      <td>429</td>\n",
       "      <td>429</td>\n",
       "      <td>429</td>\n",
       "      <td>429</td>\n",
       "      <td>429</td>\n",
       "      <td>429</td>\n",
       "      <td>429</td>\n",
       "      <td>429</td>\n",
       "      <td>429</td>\n",
       "      <td>429</td>\n",
       "      <td>429</td>\n",
       "      <td>429</td>\n",
       "    </tr>\n",
       "    <tr>\n",
       "      <th>van</th>\n",
       "      <td>198</td>\n",
       "      <td>198</td>\n",
       "      <td>198</td>\n",
       "      <td>198</td>\n",
       "      <td>198</td>\n",
       "      <td>198</td>\n",
       "      <td>198</td>\n",
       "      <td>198</td>\n",
       "      <td>198</td>\n",
       "      <td>198</td>\n",
       "      <td>198</td>\n",
       "      <td>198</td>\n",
       "      <td>198</td>\n",
       "      <td>198</td>\n",
       "      <td>198</td>\n",
       "      <td>198</td>\n",
       "      <td>198</td>\n",
       "      <td>198</td>\n",
       "    </tr>\n",
       "  </tbody>\n",
       "</table>\n",
       "</div>"
      ],
      "text/plain": [
       "       compactness  circularity  distance_circularity  radius_ratio  \\\n",
       "class                                                                 \n",
       "bus            218          218                   218           218   \n",
       "car            429          429                   429           429   \n",
       "van            198          198                   198           198   \n",
       "\n",
       "       pr.axis_aspect_ratio  max.length_aspect_ratio  scatter_ratio  \\\n",
       "class                                                                 \n",
       "bus                     218                      218            218   \n",
       "car                     429                      429            429   \n",
       "van                     198                      198            198   \n",
       "\n",
       "       elongatedness  pr.axis_rectangularity  max.length_rectangularity  \\\n",
       "class                                                                     \n",
       "bus              218                     218                        218   \n",
       "car              429                     429                        429   \n",
       "van              198                     198                        198   \n",
       "\n",
       "       scaled_variance  scaled_variance.1  scaled_radius_of_gyration  \\\n",
       "class                                                                  \n",
       "bus                218                218                        218   \n",
       "car                429                429                        429   \n",
       "van                198                198                        198   \n",
       "\n",
       "       scaled_radius_of_gyration.1  skewness_about  skewness_about.1  \\\n",
       "class                                                                  \n",
       "bus                            218             218               218   \n",
       "car                            429             429               429   \n",
       "van                            198             198               198   \n",
       "\n",
       "       skewness_about.2  hollows_ratio  \n",
       "class                                   \n",
       "bus                 218            218  \n",
       "car                 429            429  \n",
       "van                 198            198  "
      ]
     },
     "execution_count": 14,
     "metadata": {},
     "output_type": "execute_result"
    }
   ],
   "source": [
    "df.groupby('class').count()"
   ]
  },
  {
   "cell_type": "code",
   "execution_count": 15,
   "id": "26d174ac",
   "metadata": {},
   "outputs": [
    {
     "data": {
      "text/plain": [
       "class\n",
       "car    429\n",
       "bus    218\n",
       "van    198\n",
       "Name: count, dtype: int64"
      ]
     },
     "execution_count": 15,
     "metadata": {},
     "output_type": "execute_result"
    }
   ],
   "source": [
    "df['class'].value_counts()"
   ]
  },
  {
   "cell_type": "code",
   "execution_count": 18,
   "id": "4cca5117",
   "metadata": {},
   "outputs": [
    {
     "name": "stderr",
     "output_type": "stream",
     "text": [
      "C:\\Users\\MYPC~1\\AppData\\Local\\Temp/ipykernel_14760/342490104.py:2: UserWarning: \n",
      "\n",
      "`distplot` is a deprecated function and will be removed in seaborn v0.14.0.\n",
      "\n",
      "Please adapt your code to use either `displot` (a figure-level function with\n",
      "similar flexibility) or `histplot` (an axes-level function for histograms).\n",
      "\n",
      "For a guide to updating your code to use the new functions, please see\n",
      "https://gist.github.com/mwaskom/de44147ed2974457ad6372750bbe5751\n",
      "\n",
      "  sns.distplot(df['compactness'])\n"
     ]
    },
    {
     "data": {
      "text/plain": [
       "Text(0.5, 1.0, 'Distribution Plot')"
      ]
     },
     "execution_count": 18,
     "metadata": {},
     "output_type": "execute_result"
    },
    {
     "data": {
      "image/png": "[encoded data removed]",
      "text/plain": [
       "<Figure size 1600x1000 with 1 Axes>"
      ]
     },
     "metadata": {},
     "output_type": "display_data"
    }
   ],
   "source": [
    "plt.figure(figsize=(16,10))\n",
    "sns.distplot(df['compactness'])\n",
    "plt.title('Distribution Plot')"
   ]
  },
  {
   "cell_type": "code",
   "execution_count": 35,
   "id": "80ac16cf",
   "metadata": {},
   "outputs": [
    {
     "data": {
      "text/plain": [
       "Text(0.5, 1.0, 'Box Plot')"
      ]
     },
     "execution_count": 35,
     "metadata": {},
     "output_type": "execute_result"
    },
    {
     "data": {
      "image/png": "[encoded data removed]",
      "text/plain": [
       "<Figure size 1300x400 with 2 Axes>"
      ]
     },
     "metadata": {},
     "output_type": "display_data"
    }
   ],
   "source": [
    "fig,(s1,s2)=plt.subplots(nrows=1,ncols=2)\n",
    "fig.set_size_inches(13,4)\n",
    "sns.histplot(df['radius_ratio'],ax=s1)\n",
    "\n",
    "sns.boxplot(df['radius_ratio'],ax=s2)\n",
    "s2.set_title('Box Plot')"
   ]
  },
  {
   "cell_type": "code",
   "execution_count": 22,
   "id": "85147aac",
   "metadata": {},
   "outputs": [],
   "source": [
    "q1=np.quantile(df['radius_ratio'],0.25)\n",
    "q2=np.quantile(df['radius_ratio'],0.50)\n",
    "q3=np.quantile(df['radius_ratio'],0.75)\n",
    "IQR=q3-q1"
   ]
  },
  {
   "cell_type": "code",
   "execution_count": 24,
   "id": "54bfd487",
   "metadata": {},
   "outputs": [
    {
     "name": "stdout",
     "output_type": "stream",
     "text": [
      "Quartile 1:  141.0\n",
      "Quartile 2:  168.0\n",
      "Quartile 3:  196.0\n",
      "Inter Quartile Range : 55.0\n"
     ]
    }
   ],
   "source": [
    "print('Quartile 1: ',q1)\n",
    "print('Quartile 2: ',q2)\n",
    "print('Quartile 3: ',q3)\n",
    "print('Inter Quartile Range :',IQR)"
   ]
  },
  {
   "cell_type": "code",
   "execution_count": 25,
   "id": "4274ec4b",
   "metadata": {},
   "outputs": [
    {
     "name": "stdout",
     "output_type": "stream",
     "text": [
      "radius_ratio above  278.5 are outliers\n"
     ]
    }
   ],
   "source": [
    "print('radius_ratio above ',df['radius_ratio'].quantile(0.75)+(1.5*IQR),'are outliers')"
   ]
  },
  {
   "cell_type": "code",
   "execution_count": 30,
   "id": "945e2b5f",
   "metadata": {},
   "outputs": [
    {
     "name": "stdout",
     "output_type": "stream",
     "text": [
      "No of Outliers : 3\n"
     ]
    }
   ],
   "source": [
    "print('No of Outliers :' ,df[df['radius_ratio']>276]['radius_ratio'].shape[0])"
   ]
  },
  {
   "cell_type": "code",
   "execution_count": 34,
   "id": "fbdb530c",
   "metadata": {},
   "outputs": [
    {
     "data": {
      "text/plain": [
       "Text(0.5, 1.0, 'BoxPlot')"
      ]
     },
     "execution_count": 34,
     "metadata": {},
     "output_type": "execute_result"
    },
    {
     "data": {
      "image/png": "[encoded data removed]",
      "text/plain": [
       "<Figure size 1300x400 with 2 Axes>"
      ]
     },
     "metadata": {},
     "output_type": "display_data"
    }
   ],
   "source": [
    "fig,(s1,s2)=plt.subplots(nrows=1,ncols=2)\n",
    "fig.set_size_inches(13,4)\n",
    "sns.histplot(df['circularity'],ax=s1)\n",
    "s1.set_title('Distribution Plot')\n",
    "\n",
    "sns.boxplot(df['circularity'],ax=s2)\n",
    "s2.set_title('BoxPlot')"
   ]
  },
  {
   "cell_type": "code",
   "execution_count": 36,
   "id": "c07cd33d",
   "metadata": {},
   "outputs": [
    {
     "data": {
      "text/plain": [
       "Text(0.5, 1.0, 'Box Plot')"
      ]
     },
     "execution_count": 36,
     "metadata": {},
     "output_type": "execute_result"
    },
    {
     "data": {
      "image/png": "[encoded data removed]",
      "text/plain": [
       "<Figure size 1500x200 with 2 Axes>"
      ]
     },
     "metadata": {},
     "output_type": "display_data"
    }
   ],
   "source": [
    "fig,(s1,s2)=plt.subplots(nrows=1,ncols=2)\n",
    "fig.set_size_inches(15,2)\n",
    "sns.histplot(df['distance_circularity'],ax=s1)\n",
    "\n",
    "sns.boxplot(df['distance_circularity'],ax=s2)\n",
    "s2.set_title('Box Plot')"
   ]
  },
  {
   "cell_type": "code",
   "execution_count": 37,
   "id": "be045b83",
   "metadata": {},
   "outputs": [
    {
     "data": {
      "text/plain": [
       "<Axes: xlabel='count', ylabel='class'>"
      ]
     },
     "execution_count": 37,
     "metadata": {},
     "output_type": "execute_result"
    },
    {
     "data": {
      "image/png": "[encoded data removed]",
      "text/plain": [
       "<Figure size 640x480 with 1 Axes>"
      ]
     },
     "metadata": {},
     "output_type": "display_data"
    }
   ],
   "source": [
    "sns.countplot(df['class'])"
   ]
  },
  {
   "cell_type": "markdown",
   "id": "48573cde",
   "metadata": {},
   "source": [
    "# PCA"
   ]
  },
  {
   "cell_type": "code",
   "execution_count": 38,
   "id": "ddcb98f2",
   "metadata": {},
   "outputs": [],
   "source": [
    "x_train=df.drop('class',axis=1)\n",
    "x_target=df['class']"
   ]
  },
  {
   "cell_type": "code",
   "execution_count": 39,
   "id": "19f27029",
   "metadata": {},
   "outputs": [
    {
     "data": {
      "text/plain": [
       "(845, 18)"
      ]
     },
     "execution_count": 39,
     "metadata": {},
     "output_type": "execute_result"
    }
   ],
   "source": [
    "x_train.shape"
   ]
  },
  {
   "cell_type": "code",
   "execution_count": 40,
   "id": "b04ae8ff",
   "metadata": {},
   "outputs": [
    {
     "data": {
      "text/plain": [
       "(845,)"
      ]
     },
     "execution_count": 40,
     "metadata": {},
     "output_type": "execute_result"
    }
   ],
   "source": [
    "x_target.shape"
   ]
  },
  {
   "cell_type": "code",
   "execution_count": 41,
   "id": "b2225b86",
   "metadata": {},
   "outputs": [],
   "source": [
    "from sklearn.preprocessing import StandardScaler"
   ]
  },
  {
   "cell_type": "code",
   "execution_count": 42,
   "id": "cc644370",
   "metadata": {},
   "outputs": [],
   "source": [
    "scaler=StandardScaler()"
   ]
  },
  {
   "cell_type": "code",
   "execution_count": 43,
   "id": "e4a7f10e",
   "metadata": {},
   "outputs": [
    {
     "data": {
      "text/plain": [
       "StandardScaler()"
      ]
     },
     "execution_count": 43,
     "metadata": {},
     "output_type": "execute_result"
    }
   ],
   "source": [
    "scaler.fit(x_train)"
   ]
  },
  {
   "cell_type": "code",
   "execution_count": 44,
   "id": "b7eeed6a",
   "metadata": {},
   "outputs": [],
   "source": [
    "from scipy.stats import zscore\n",
    "x_train_std=x_train.apply(zscore)"
   ]
  },
  {
   "cell_type": "code",
   "execution_count": 45,
   "id": "2d50ea79",
   "metadata": {},
   "outputs": [],
   "source": [
    "cov_matrix=np.cov(x_train_std.T)"
   ]
  },
  {
   "cell_type": "code",
   "execution_count": 46,
   "id": "35e61d4c",
   "metadata": {},
   "outputs": [
    {
     "name": "stdout",
     "output_type": "stream",
     "text": [
      "[[ 1.00118483  0.68444715  0.78903111  0.68976652  0.09142027  0.14760524\n",
      "   0.81349192 -0.78799552  0.81414588  0.67642767  0.761737    0.81366691\n",
      "   0.58427953 -0.25021607  0.23975983  0.15809479  0.29853399  0.36540293]\n",
      " [ 0.68444715  1.00118483  0.78982182  0.62337518  0.15476877  0.25111637\n",
      "   0.84762725 -0.81853435  0.84138104  0.96147421  0.79576578  0.83433718\n",
      "   0.92481916  0.05070278  0.14335695 -0.00993598 -0.10439313  0.04642807]\n",
      " [ 0.78903111  0.78982182  1.00118483  0.77039492  0.15903341  0.26465666\n",
      "   0.90423936 -0.91021552  0.89111559  0.77252747  0.8597457   0.88412016\n",
      "   0.70209517 -0.22934494  0.11568265  0.26810024  0.14830558  0.33604308]\n",
      " [ 0.68976652  0.62337518  0.77039492  1.00118483  0.66113122  0.44854241\n",
      "   0.73731983 -0.79151096  0.7114913   0.57119614  0.79531565  0.72054746\n",
      "   0.53780299 -0.18042386  0.053911    0.17276101  0.38202649  0.4693218 ]\n",
      " [ 0.09142027  0.15476877  0.15903341  0.66113122  1.00118483  0.64904803\n",
      "   0.10340949 -0.1825961   0.07992221  0.12682155  0.27257474  0.08875503\n",
      "   0.12102089  0.15333166 -0.05847819 -0.03239305  0.24018313  0.26744445]\n",
      " [ 0.14760524  0.25111637  0.26465666  0.44854241  0.64904803  1.00118483\n",
      "   0.16542565 -0.17825235  0.16044033  0.30549047  0.31838247  0.14218619\n",
      "   0.18856517  0.29617765  0.01677289  0.04405457 -0.02656079  0.14349272]\n",
      " [ 0.81349192  0.84762725  0.90423936  0.73731983  0.10340949  0.16542565\n",
      "   1.00118483 -0.97194174  0.99049346  0.80995769  0.94942079  0.99364935\n",
      "   0.80001595 -0.02755518  0.07490529  0.21382514  0.00497147  0.11803664]\n",
      " [-0.78799552 -0.81853435 -0.91021552 -0.79151096 -0.1825961  -0.17825235\n",
      "  -0.97194174  1.00118483 -0.9482603  -0.77335643 -0.93629456 -0.95286008\n",
      "  -0.76375939  0.10313691 -0.05170075 -0.18885763 -0.11317843 -0.21464526]\n",
      " [ 0.81414588  0.84138104  0.89111559  0.7114913   0.07992221  0.16044033\n",
      "   0.99049346 -0.9482603   1.00118483  0.8102439   0.93417981  0.98804666\n",
      "   0.79544387 -0.01578899  0.08625677  0.21671888 -0.01918212  0.09842956]\n",
      " [ 0.67642767  0.96147421  0.77252747  0.57119614  0.12682155  0.30549047\n",
      "   0.80995769 -0.77335643  0.8102439   1.00118483  0.74479757  0.79432723\n",
      "   0.86677897  0.04162746  0.1354145   0.00235853 -0.10497828  0.07573403]\n",
      " [ 0.761737    0.79576578  0.8597457   0.79531565  0.27257474  0.31838247\n",
      "   0.94942079 -0.93629456  0.93417981  0.74479757  1.00118483  0.94551396\n",
      "   0.77835644  0.11377432  0.03892981  0.19488794  0.01303381  0.08368732]\n",
      " [ 0.81366691  0.83433718  0.88412016  0.72054746  0.08875503  0.14218619\n",
      "   0.99364935 -0.95286008  0.98804666  0.79432723  0.94551396  1.00118483\n",
      "   0.79420049 -0.01506477  0.07852452  0.20197467  0.00522108  0.1016222 ]\n",
      " [ 0.58427953  0.92481916  0.70209517  0.53780299  0.12102089  0.18856517\n",
      "   0.80001595 -0.76375939  0.79544387  0.86677897  0.77835644  0.79420049\n",
      "   1.00118483  0.19343452  0.16466056 -0.05609467 -0.22718109 -0.12110899]\n",
      " [-0.25021607  0.05070278 -0.22934494 -0.18042386  0.15333166  0.29617765\n",
      "  -0.02755518  0.10313691 -0.01578899  0.04162746  0.11377432 -0.01506477\n",
      "   0.19343452  1.00118483 -0.0880872  -0.12654514 -0.75003689 -0.8035462 ]\n",
      " [ 0.23975983  0.14335695  0.11568265  0.053911   -0.05847819  0.01677289\n",
      "   0.07490529 -0.05170075  0.08625677  0.1354145   0.03892981  0.07852452\n",
      "   0.16466056 -0.0880872   1.00118483 -0.03095801  0.11590814  0.09949134]\n",
      " [ 0.15809479 -0.00993598  0.26810024  0.17276101 -0.03239305  0.04405457\n",
      "   0.21382514 -0.18885763  0.21671888  0.00235853  0.19488794  0.20197467\n",
      "  -0.05609467 -0.12654514 -0.03095801  1.00118483  0.07776927  0.20589039]\n",
      " [ 0.29853399 -0.10439313  0.14830558  0.38202649  0.24018313 -0.02656079\n",
      "   0.00497147 -0.11317843 -0.01918212 -0.10497828  0.01303381  0.00522108\n",
      "  -0.22718109 -0.75003689  0.11590814  0.07776927  1.00118483  0.89363551]\n",
      " [ 0.36540293  0.04642807  0.33604308  0.4693218   0.26744445  0.14349272\n",
      "   0.11803664 -0.21464526  0.09842956  0.07573403  0.08368732  0.1016222\n",
      "  -0.12110899 -0.8035462   0.09949134  0.20589039  0.89363551  1.00118483]]\n"
     ]
    }
   ],
   "source": [
    "print(cov_matrix)"
   ]
  },
  {
   "cell_type": "code",
   "execution_count": 47,
   "id": "035d39db",
   "metadata": {},
   "outputs": [
    {
     "name": "stdout",
     "output_type": "stream",
     "text": [
      "Eigen Vectors \n",
      " [[ 2.75325097e-01  1.27108368e-01  1.19812100e-01 -8.09755035e-02\n",
      "  -7.13780685e-02  1.43548071e-01  4.49716251e-01  5.64974625e-01\n",
      "   4.85281740e-01 -2.68500542e-01  4.72847388e-02  3.67592940e-03\n",
      "  -1.58061458e-01 -1.17325689e-02 -8.63121308e-03  3.89485048e-02\n",
      "  -5.46406586e-02 -2.11481067e-02]\n",
      " [ 2.93041738e-01 -1.24893312e-01  2.38505545e-02 -1.88424619e-01\n",
      "   8.62190911e-02 -3.05495101e-01 -2.49900405e-01  1.77692657e-01\n",
      "   1.62603802e-02  1.00582449e-01  1.09863498e-02 -2.35896598e-01\n",
      "   1.28175825e-02 -1.23608093e-02  7.36071675e-02 -4.64160006e-01\n",
      "  -1.15754509e-01 -6.05757202e-01]\n",
      " [ 3.04343921e-01  7.53395559e-02  5.51736629e-02  7.18885423e-02\n",
      "  -4.02577481e-02 -1.39090831e-01  7.52944353e-02 -4.40666706e-01\n",
      "   1.67237354e-01 -2.15171844e-01  6.94019247e-01  2.28329862e-02\n",
      "   2.40580599e-01  8.17850491e-03 -1.79995779e-02  1.60774931e-01\n",
      "   9.66088236e-02 -1.50864956e-01]\n",
      " [ 2.68354812e-01  1.87980444e-01 -2.73711322e-01  4.10440171e-02\n",
      "   4.60673337e-02  2.48138931e-01 -1.78125664e-01 -1.08701583e-01\n",
      "   2.21550906e-01 -4.59342073e-02 -1.04403879e-01 -1.75632352e-01\n",
      "   8.64933552e-02 -4.51281836e-02 -4.70248892e-02 -4.76351889e-01\n",
      "   5.26145551e-01  3.16852850e-01]\n",
      " [ 8.04277855e-02  1.20776156e-01 -6.42663404e-01 -2.98899343e-02\n",
      "   4.17824794e-02  2.35161313e-01 -3.98105337e-01  7.11867740e-02\n",
      "   2.84711702e-01  1.02566802e-01  3.38541230e-02  1.26001935e-01\n",
      "   2.50522357e-03  3.46008826e-02  1.73801585e-02  3.38483441e-01\n",
      "  -3.10986858e-01 -1.51789567e-01]\n",
      " [ 9.69877263e-02 -1.15701411e-02 -5.92455087e-01 -2.84903004e-02\n",
      "  -2.13728655e-01 -4.16281219e-01  5.04657560e-01 -1.58176964e-01\n",
      "  -1.52014468e-01 -1.12577447e-01 -2.64122141e-01 -1.32927271e-01\n",
      "  -3.83044639e-02 -7.64884878e-03 -2.93705169e-02  6.11136884e-02\n",
      "   6.55839206e-02 -7.96168822e-02]\n",
      " [ 3.17365390e-01 -4.81111493e-02  9.79740547e-02  9.57061152e-02\n",
      "   1.65216954e-02  1.15100359e-01  6.55114316e-02 -9.45255474e-02\n",
      "  -5.38601949e-02  1.64705164e-01 -1.64474000e-01  9.61760642e-02\n",
      "  -4.86480745e-02  8.53994534e-01 -2.10938955e-01  4.79772685e-02\n",
      "   3.30291395e-02 -7.46092224e-02]\n",
      " [-3.13908969e-01 -1.24942894e-02 -5.79095866e-02 -8.60078601e-02\n",
      "  -7.68598631e-02 -1.44381012e-01  1.34336590e-02  2.15680830e-01\n",
      "   1.52065916e-01 -1.47222075e-01 -6.98483856e-02  1.52389393e-01\n",
      "   8.14304420e-01  2.36907748e-01 -2.55685705e-02 -1.43311087e-01\n",
      "  -4.54225500e-02  4.15990108e-02]\n",
      " [ 3.13976686e-01 -5.95078887e-02  1.09758125e-01  9.20973708e-02\n",
      "  -3.42811734e-03  1.00100191e-01  9.67603025e-02 -5.99272937e-02\n",
      "  -4.24955532e-04  1.99104377e-01 -2.80237361e-01  2.68241454e-01\n",
      "   2.38879300e-01 -1.30224165e-01  7.15233582e-01  1.76426020e-01\n",
      "   1.81731153e-01 -1.20419145e-01]\n",
      " [ 2.82806204e-01 -1.16307080e-01  1.65875331e-02 -1.89158918e-01\n",
      "   6.16133703e-02 -4.61758922e-01 -1.02175546e-01  2.45908040e-01\n",
      "   6.34526600e-02  4.66317738e-01  1.46969243e-01 -1.09035291e-01\n",
      "   7.34146478e-02 -1.82613170e-02 -4.87433274e-02  2.26476180e-01\n",
      "   3.18416520e-02  5.16853346e-01]\n",
      " [ 3.09319815e-01 -6.29270345e-02 -5.60151090e-02  1.19638923e-01\n",
      "   6.96291082e-05  2.36733279e-01  1.13968281e-01 -4.63599672e-02\n",
      "  -3.01107352e-01 -1.25519631e-01  7.63274355e-02 -2.21978656e-01\n",
      "   1.70868699e-01 -5.59655379e-03  1.71708114e-01 -2.48987316e-01\n",
      "  -6.43151562e-01  3.40380183e-01]\n",
      " [ 3.13754983e-01 -5.38917418e-02  1.09266288e-01  9.11986601e-02\n",
      "   1.92929480e-02  1.58202372e-01  8.39805742e-02 -4.00386319e-02\n",
      "  -8.37914639e-02  1.64655806e-01 -2.44879164e-01  1.96832160e-01\n",
      "   2.91239622e-01 -4.37455588e-01 -6.33400995e-01  8.32324030e-02\n",
      "  -5.30510985e-02 -1.56118884e-01]\n",
      " [ 2.71745682e-01 -2.10364782e-01  3.14608951e-02 -2.00827662e-01\n",
      "   6.31841851e-02 -1.37097155e-01 -3.72903747e-01  1.06816539e-01\n",
      "  -2.48090593e-01 -6.82994754e-01 -1.68995980e-01  1.97515920e-01\n",
      "  -5.53356790e-02  1.09888686e-02 -2.42993934e-02  1.99099088e-01\n",
      "   1.14863459e-01  1.22940179e-01]\n",
      " [-2.09200382e-02 -4.88830879e-01 -2.84779077e-01  6.61571559e-02\n",
      "  -1.47651328e-01  2.40631478e-01  1.08445887e-01  3.38371938e-01\n",
      "  -3.15000093e-01  1.23292030e-01  4.27528401e-01  2.80274564e-01\n",
      "  -3.73692101e-02  1.52834113e-03 -1.16969588e-02 -1.54762195e-01\n",
      "   2.55610752e-01 -5.08544553e-02]\n",
      " [ 4.19846981e-02  5.68611422e-02  1.13749438e-01 -6.02002832e-01\n",
      "  -7.31414317e-01  2.01595575e-01 -8.40015296e-02 -1.57143658e-01\n",
      "  -2.33418683e-02  9.91907083e-02 -1.17466047e-02 -3.52140004e-03\n",
      "  -1.15900011e-02 -1.37492488e-03  4.71482284e-04 -1.40248426e-02\n",
      "  -3.37433662e-02  1.71438831e-02]\n",
      " [ 5.88029358e-02  1.24258807e-01  7.69248867e-02  6.67514381e-01\n",
      "  -5.94969174e-01 -1.95721012e-01 -2.86432131e-01  2.09654344e-01\n",
      "  -8.57518842e-03 -3.65454491e-02 -3.25360943e-02 -8.34301399e-02\n",
      "  -2.37376224e-02 -1.20869298e-02 -8.77177183e-03  3.13139526e-02\n",
      "   6.26939543e-03 -9.00347179e-03]\n",
      " [ 3.00893419e-02  5.40725251e-01 -1.07993064e-02 -1.04906238e-01\n",
      "   1.01378802e-01  1.57350962e-01  1.51720890e-02  3.07252816e-01\n",
      "  -5.14364286e-01  2.21844617e-02  1.21904932e-01 -3.30484253e-01\n",
      "   1.89742478e-01  4.32707403e-02  1.34464808e-02  2.58420981e-01\n",
      "   2.15666775e-01 -1.59452380e-01]\n",
      " [ 7.38738516e-02  5.40224050e-01 -4.10092663e-02 -4.72657705e-02\n",
      "   3.02690490e-02 -2.40301271e-01  1.66228557e-02  3.01979053e-02\n",
      "  -1.71213077e-01  6.38374697e-02  9.44525396e-02  6.64329670e-01\n",
      "  -1.57899216e-01 -9.19184923e-03  7.59806855e-03 -3.25948813e-01\n",
      "  -1.28707721e-01  8.60734903e-02]]\n",
      "\n",
      " Eigen Values \n",
      " [9.39197263e+00 3.01729356e+00 1.90153857e+00 1.17607933e+00\n",
      " 9.21322234e-01 5.42960887e-01 3.59173465e-01 2.23949629e-01\n",
      " 1.59773320e-01 9.21557272e-02 6.72883643e-02 4.75603190e-02\n",
      " 3.76536295e-02 3.02356062e-03 1.12480533e-02 2.79141037e-02\n",
      " 1.92455424e-02 2.11740959e-02]\n"
     ]
    }
   ],
   "source": [
    "eig_vals, eig_vec=np.linalg.eig(cov_matrix)\n",
    "print('Eigen Vectors \\n', eig_vec)\n",
    "print('\\n Eigen Values \\n', eig_vals)"
   ]
  },
  {
   "cell_type": "code",
   "execution_count": 49,
   "id": "5dc0fbd3",
   "metadata": {},
   "outputs": [],
   "source": [
    "from sklearn.decomposition import PCA"
   ]
  },
  {
   "cell_type": "code",
   "execution_count": 50,
   "id": "b0e98f67",
   "metadata": {},
   "outputs": [
    {
     "data": {
      "text/plain": [
       "PCA(n_components=18)"
      ]
     },
     "execution_count": 50,
     "metadata": {},
     "output_type": "execute_result"
    }
   ],
   "source": [
    "pca=PCA(n_components=18)\n",
    "pca.fit(x_train_std)"
   ]
  },
  {
   "cell_type": "code",
   "execution_count": 51,
   "id": "70b2c498",
   "metadata": {},
   "outputs": [
    {
     "name": "stdout",
     "output_type": "stream",
     "text": [
      "[[ 2.75325097e-01  2.93041738e-01  3.04343921e-01  2.68354812e-01\n",
      "   8.04277855e-02  9.69877263e-02  3.17365390e-01 -3.13908969e-01\n",
      "   3.13976686e-01  2.82806204e-01  3.09319815e-01  3.13754983e-01\n",
      "   2.71745682e-01 -2.09200382e-02  4.19846981e-02  5.88029358e-02\n",
      "   3.00893419e-02  7.38738516e-02]\n",
      " [-1.27108368e-01  1.24893312e-01 -7.53395559e-02 -1.87980444e-01\n",
      "  -1.20776156e-01  1.15701411e-02  4.81111493e-02  1.24942894e-02\n",
      "   5.95078887e-02  1.16307080e-01  6.29270345e-02  5.38917418e-02\n",
      "   2.10364782e-01  4.88830879e-01 -5.68611422e-02 -1.24258807e-01\n",
      "  -5.40725251e-01 -5.40224050e-01]\n",
      " [-1.19812100e-01 -2.38505545e-02 -5.51736629e-02  2.73711322e-01\n",
      "   6.42663404e-01  5.92455087e-01 -9.79740547e-02  5.79095866e-02\n",
      "  -1.09758125e-01 -1.65875331e-02  5.60151090e-02 -1.09266288e-01\n",
      "  -3.14608951e-02  2.84779077e-01 -1.13749438e-01 -7.69248867e-02\n",
      "   1.07993064e-02  4.10092663e-02]\n",
      " [ 8.09755035e-02  1.88424619e-01 -7.18885423e-02 -4.10440171e-02\n",
      "   2.98899343e-02  2.84903004e-02 -9.57061152e-02  8.60078601e-02\n",
      "  -9.20973708e-02  1.89158918e-01 -1.19638923e-01 -9.11986601e-02\n",
      "   2.00827662e-01 -6.61571559e-02  6.02002832e-01 -6.67514381e-01\n",
      "   1.04906238e-01  4.72657705e-02]\n",
      " [ 7.13780685e-02 -8.62190911e-02  4.02577481e-02 -4.60673337e-02\n",
      "  -4.17824794e-02  2.13728655e-01 -1.65216954e-02  7.68598631e-02\n",
      "   3.42811734e-03 -6.16133703e-02 -6.96291082e-05 -1.92929480e-02\n",
      "  -6.31841851e-02  1.47651328e-01  7.31414317e-01  5.94969174e-01\n",
      "  -1.01378802e-01 -3.02690490e-02]\n",
      " [ 1.43548071e-01 -3.05495101e-01 -1.39090831e-01  2.48138931e-01\n",
      "   2.35161313e-01 -4.16281219e-01  1.15100359e-01 -1.44381012e-01\n",
      "   1.00100191e-01 -4.61758922e-01  2.36733279e-01  1.58202372e-01\n",
      "  -1.37097155e-01  2.40631478e-01  2.01595575e-01 -1.95721012e-01\n",
      "   1.57350962e-01 -2.40301271e-01]\n",
      " [ 4.49716251e-01 -2.49900405e-01  7.52944353e-02 -1.78125664e-01\n",
      "  -3.98105337e-01  5.04657560e-01  6.55114316e-02  1.34336590e-02\n",
      "   9.67603025e-02 -1.02175546e-01  1.13968281e-01  8.39805742e-02\n",
      "  -3.72903747e-01  1.08445887e-01 -8.40015296e-02 -2.86432131e-01\n",
      "   1.51720890e-02  1.66228557e-02]\n",
      " [-5.64974625e-01 -1.77692657e-01  4.40666706e-01  1.08701583e-01\n",
      "  -7.11867740e-02  1.58176964e-01  9.45255474e-02 -2.15680830e-01\n",
      "   5.99272937e-02 -2.45908040e-01  4.63599672e-02  4.00386319e-02\n",
      "  -1.06816539e-01 -3.38371938e-01  1.57143658e-01 -2.09654344e-01\n",
      "  -3.07252816e-01 -3.01979053e-02]\n",
      " [-4.85281740e-01 -1.62603802e-02 -1.67237354e-01 -2.21550906e-01\n",
      "  -2.84711702e-01  1.52014468e-01  5.38601949e-02 -1.52065916e-01\n",
      "   4.24955532e-04 -6.34526600e-02  3.01107352e-01  8.37914639e-02\n",
      "   2.48090593e-01  3.15000093e-01  2.33418683e-02  8.57518842e-03\n",
      "   5.14364286e-01  1.71213077e-01]\n",
      " [-2.68500542e-01  1.00582449e-01 -2.15171844e-01 -4.59342073e-02\n",
      "   1.02566802e-01 -1.12577447e-01  1.64705164e-01 -1.47222075e-01\n",
      "   1.99104377e-01  4.66317738e-01 -1.25519631e-01  1.64655806e-01\n",
      "  -6.82994754e-01  1.23292030e-01  9.91907083e-02 -3.65454491e-02\n",
      "   2.21844617e-02  6.38374697e-02]\n",
      " [ 4.72847388e-02  1.09863498e-02  6.94019247e-01 -1.04403879e-01\n",
      "   3.38541230e-02 -2.64122141e-01 -1.64474000e-01 -6.98483856e-02\n",
      "  -2.80237361e-01  1.46969243e-01  7.63274355e-02 -2.44879164e-01\n",
      "  -1.68995980e-01  4.27528401e-01 -1.17466047e-02 -3.25360943e-02\n",
      "   1.21904932e-01  9.44525396e-02]\n",
      " [ 3.67592940e-03 -2.35896598e-01  2.28329862e-02 -1.75632352e-01\n",
      "   1.26001935e-01 -1.32927271e-01  9.61760642e-02  1.52389393e-01\n",
      "   2.68241454e-01 -1.09035291e-01 -2.21978656e-01  1.96832160e-01\n",
      "   1.97515920e-01  2.80274564e-01 -3.52140004e-03 -8.34301399e-02\n",
      "  -3.30484253e-01  6.64329670e-01]\n",
      " [ 1.58061458e-01 -1.28175825e-02 -2.40580599e-01 -8.64933552e-02\n",
      "  -2.50522357e-03  3.83044639e-02  4.86480745e-02 -8.14304420e-01\n",
      "  -2.38879300e-01 -7.34146478e-02 -1.70868699e-01 -2.91239622e-01\n",
      "   5.53356790e-02  3.73692101e-02  1.15900011e-02  2.37376224e-02\n",
      "  -1.89742478e-01  1.57899216e-01]\n",
      " [ 3.89485048e-02 -4.64160006e-01  1.60774931e-01 -4.76351889e-01\n",
      "   3.38483441e-01  6.11136884e-02  4.79772685e-02 -1.43311087e-01\n",
      "   1.76426020e-01  2.26476180e-01 -2.48987316e-01  8.32324030e-02\n",
      "   1.99099088e-01 -1.54762195e-01 -1.40248426e-02  3.13139526e-02\n",
      "   2.58420981e-01 -3.25948813e-01]\n",
      " [-2.11481067e-02 -6.05757202e-01 -1.50864956e-01  3.16852850e-01\n",
      "  -1.51789567e-01 -7.96168822e-02 -7.46092224e-02  4.15990108e-02\n",
      "  -1.20419145e-01  5.16853346e-01  3.40380183e-01 -1.56118884e-01\n",
      "   1.22940179e-01 -5.08544553e-02  1.71438831e-02 -9.00347179e-03\n",
      "  -1.59452380e-01  8.60734903e-02]\n",
      " [-5.46406586e-02 -1.15754509e-01  9.66088236e-02  5.26145551e-01\n",
      "  -3.10986858e-01  6.55839206e-02  3.30291395e-02 -4.54225500e-02\n",
      "   1.81731153e-01  3.18416520e-02 -6.43151562e-01 -5.30510985e-02\n",
      "   1.14863459e-01  2.55610752e-01 -3.37433662e-02  6.26939543e-03\n",
      "   2.15666775e-01 -1.28707721e-01]\n",
      " [ 8.63121308e-03 -7.36071675e-02  1.79995779e-02  4.70248892e-02\n",
      "  -1.73801585e-02  2.93705169e-02  2.10938955e-01  2.55685705e-02\n",
      "  -7.15233582e-01  4.87433274e-02 -1.71708114e-01  6.33400995e-01\n",
      "   2.42993934e-02  1.16969588e-02 -4.71482284e-04  8.77177183e-03\n",
      "  -1.34464808e-02 -7.59806855e-03]\n",
      " [-1.17325689e-02 -1.23608093e-02  8.17850491e-03 -4.51281836e-02\n",
      "   3.46008826e-02 -7.64884878e-03  8.53994534e-01  2.36907748e-01\n",
      "  -1.30224165e-01 -1.82613170e-02 -5.59655379e-03 -4.37455588e-01\n",
      "   1.09888686e-02  1.52834113e-03 -1.37492488e-03 -1.20869298e-02\n",
      "   4.32707403e-02 -9.19184923e-03]]\n"
     ]
    }
   ],
   "source": [
    "print(pca.components_)"
   ]
  },
  {
   "cell_type": "code",
   "execution_count": 54,
   "id": "e4e71ee1",
   "metadata": {},
   "outputs": [
    {
     "data": {
      "text/plain": [
       "PCA(n_components=6)"
      ]
     },
     "execution_count": 54,
     "metadata": {},
     "output_type": "execute_result"
    }
   ],
   "source": [
    "from sklearn.decomposition import PCA\n",
    "pca1 = PCA(n_components = 6)\n",
    "pca1.fit(x_train_std)"
   ]
  },
  {
   "cell_type": "code",
   "execution_count": 56,
   "id": "0f2fe6cb",
   "metadata": {},
   "outputs": [
    {
     "name": "stdout",
     "output_type": "stream",
     "text": [
      "[[ 2.75325097e-01  2.93041738e-01  3.04343921e-01  2.68354812e-01\n",
      "   8.04277855e-02  9.69877263e-02  3.17365390e-01 -3.13908969e-01\n",
      "   3.13976686e-01  2.82806204e-01  3.09319815e-01  3.13754983e-01\n",
      "   2.71745682e-01 -2.09200382e-02  4.19846981e-02  5.88029358e-02\n",
      "   3.00893419e-02  7.38738516e-02]\n",
      " [-1.27108368e-01  1.24893312e-01 -7.53395559e-02 -1.87980444e-01\n",
      "  -1.20776156e-01  1.15701411e-02  4.81111493e-02  1.24942894e-02\n",
      "   5.95078887e-02  1.16307080e-01  6.29270345e-02  5.38917418e-02\n",
      "   2.10364782e-01  4.88830879e-01 -5.68611422e-02 -1.24258807e-01\n",
      "  -5.40725251e-01 -5.40224050e-01]\n",
      " [-1.19812100e-01 -2.38505545e-02 -5.51736629e-02  2.73711322e-01\n",
      "   6.42663404e-01  5.92455087e-01 -9.79740547e-02  5.79095866e-02\n",
      "  -1.09758125e-01 -1.65875331e-02  5.60151090e-02 -1.09266288e-01\n",
      "  -3.14608951e-02  2.84779077e-01 -1.13749438e-01 -7.69248867e-02\n",
      "   1.07993064e-02  4.10092663e-02]\n",
      " [ 8.09755035e-02  1.88424619e-01 -7.18885423e-02 -4.10440171e-02\n",
      "   2.98899342e-02  2.84903004e-02 -9.57061152e-02  8.60078601e-02\n",
      "  -9.20973710e-02  1.89158918e-01 -1.19638923e-01 -9.11986600e-02\n",
      "   2.00827662e-01 -6.61571558e-02  6.02002832e-01 -6.67514381e-01\n",
      "   1.04906238e-01  4.72657705e-02]\n",
      " [ 7.13780685e-02 -8.62190911e-02  4.02577481e-02 -4.60673337e-02\n",
      "  -4.17824795e-02  2.13728655e-01 -1.65216954e-02  7.68598631e-02\n",
      "   3.42811709e-03 -6.16133703e-02 -6.96291817e-05 -1.92929478e-02\n",
      "  -6.31841851e-02  1.47651328e-01  7.31414317e-01  5.94969174e-01\n",
      "  -1.01378802e-01 -3.02690490e-02]\n",
      " [ 1.43548071e-01 -3.05495101e-01 -1.39090831e-01  2.48138933e-01\n",
      "   2.35161313e-01 -4.16281219e-01  1.15100361e-01 -1.44381012e-01\n",
      "   1.00100184e-01 -4.61758921e-01  2.36733278e-01  1.58202378e-01\n",
      "  -1.37097155e-01  2.40631479e-01  2.01595575e-01 -1.95721012e-01\n",
      "   1.57350961e-01 -2.40301271e-01]]\n"
     ]
    }
   ],
   "source": [
    "print(pca1.components_)"
   ]
  },
  {
   "cell_type": "code",
   "execution_count": 58,
   "id": "237664c7",
   "metadata": {},
   "outputs": [],
   "source": [
    "from sklearn.model_selection import train_test_split"
   ]
  },
  {
   "cell_type": "markdown",
   "id": "017b6e14",
   "metadata": {},
   "source": [
    "# SVM"
   ]
  },
  {
   "cell_type": "code",
   "execution_count": 59,
   "id": "e78cd9a5",
   "metadata": {},
   "outputs": [],
   "source": [
    "X_train, X_test, y_train, y_test = train_test_split(x_train_std,x_target,test_size=0.33)"
   ]
  },
  {
   "cell_type": "code",
   "execution_count": 60,
   "id": "cb922b4f",
   "metadata": {},
   "outputs": [],
   "source": [
    "from sklearn.svm import SVC\n",
    "svc_model1 = SVC(C= .1, kernel='linear', gamma= 1)\n",
    "svc_model1.fit(X_train, y_train)\n",
    "prediction = svc_model1.predict(X_test)"
   ]
  },
  {
   "cell_type": "code",
   "execution_count": 61,
   "id": "05d68b21",
   "metadata": {},
   "outputs": [],
   "source": [
    "from sklearn.metrics import accuracy_score,confusion_matrix,classification_report"
   ]
  },
  {
   "cell_type": "code",
   "execution_count": 62,
   "id": "3afaf659",
   "metadata": {},
   "outputs": [
    {
     "name": "stdout",
     "output_type": "stream",
     "text": [
      "0.9175627240143369\n"
     ]
    }
   ],
   "source": [
    "print(accuracy_score(prediction,y_test))"
   ]
  },
  {
   "cell_type": "code",
   "execution_count": 63,
   "id": "d9f5b9c0",
   "metadata": {},
   "outputs": [],
   "source": [
    "from sklearn.svm import SVC\n",
    "svc_model2 = SVC(C= .1, kernel='rbf', gamma= 1)\n",
    "svc_model2.fit(X_train, y_train)\n",
    "prediction = svc_model2.predict(X_test)"
   ]
  },
  {
   "cell_type": "code",
   "execution_count": 64,
   "id": "21864030",
   "metadata": {},
   "outputs": [
    {
     "name": "stdout",
     "output_type": "stream",
     "text": [
      "0.4874551971326165\n"
     ]
    }
   ],
   "source": [
    "print(accuracy_score(prediction,y_test))"
   ]
  },
  {
   "cell_type": "code",
   "execution_count": 65,
   "id": "c5a04e2c",
   "metadata": {},
   "outputs": [],
   "source": [
    "from sklearn.svm import SVC\n",
    "svc_model3 = SVC(C= .1, kernel='poly', gamma= 1)\n",
    "svc_model3.fit(X_train, y_train)\n",
    "prediction = svc_model3.predict(X_test)"
   ]
  },
  {
   "cell_type": "code",
   "execution_count": 66,
   "id": "7d377b80",
   "metadata": {},
   "outputs": [
    {
     "name": "stdout",
     "output_type": "stream",
     "text": [
      "0.921146953405018\n"
     ]
    }
   ],
   "source": [
    "print(accuracy_score(prediction,y_test))"
   ]
  },
  {
   "cell_type": "markdown",
   "id": "49c387e2",
   "metadata": {},
   "source": [
    "# Logistic Regression"
   ]
  },
  {
   "cell_type": "code",
   "execution_count": 67,
   "id": "3034bd90",
   "metadata": {},
   "outputs": [],
   "source": [
    "from sklearn.linear_model import LogisticRegression\n",
    "model=LogisticRegression()"
   ]
  },
  {
   "cell_type": "code",
   "execution_count": 69,
   "id": "6b9050a9",
   "metadata": {},
   "outputs": [
    {
     "data": {
      "text/plain": [
       "0.931899641577061"
      ]
     },
     "execution_count": 69,
     "metadata": {},
     "output_type": "execute_result"
    }
   ],
   "source": [
    "model.fit(X_train,y_train)\n",
    "y_pred=model.predict(X_test)\n",
    "accuracy_score(y_pred,y_test)"
   ]
  },
  {
   "cell_type": "code",
   "execution_count": 70,
   "id": "fcebc04d",
   "metadata": {},
   "outputs": [
    {
     "name": "stdout",
     "output_type": "stream",
     "text": [
      "              precision    recall  f1-score   support\n",
      "\n",
      "         bus       0.92      0.92      0.92        73\n",
      "         car       0.93      0.96      0.94       131\n",
      "         van       0.96      0.89      0.92        75\n",
      "\n",
      "    accuracy                           0.93       279\n",
      "   macro avg       0.93      0.92      0.93       279\n",
      "weighted avg       0.93      0.93      0.93       279\n",
      "\n"
     ]
    }
   ],
   "source": [
    "print(classification_report(y_pred,y_test))"
   ]
  },
  {
   "cell_type": "code",
   "execution_count": 71,
   "id": "a170416c",
   "metadata": {},
   "outputs": [
    {
     "name": "stdout",
     "output_type": "stream",
     "text": [
      "[[ 67   5   1]\n",
      " [  3 126   2]\n",
      " [  3   5  67]]\n"
     ]
    }
   ],
   "source": [
    "print(confusion_matrix(y_pred,y_test))"
   ]
  },
  {
   "cell_type": "code",
   "execution_count": null,
   "id": "7be34c0a",
   "metadata": {},
   "outputs": [],
   "source": []
  }
 ],
 "metadata": {
  "kernelspec": {
   "display_name": "Python (Tensorflow)",
   "language": "python",
   "name": "tf2.7"
  },
  "language_info": {
   "codemirror_mode": {
    "name": "ipython",
    "version": 3
   },
   "file_extension": ".py",
   "mimetype": "text/x-python",
   "name": "python",
   "nbconvert_exporter": "python",
   "pygments_lexer": "ipython3",
   "version": "3.8.17"
  }
 },
 "nbformat": 4,
 "nbformat_minor": 5
}
