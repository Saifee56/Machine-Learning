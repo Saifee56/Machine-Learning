{
 "cells": [
  {
   "cell_type": "markdown",
   "id": "0781d8dc",
   "metadata": {},
   "source": [
    "# FIFA21 messy dataset cleaning"
   ]
  },
  {
   "cell_type": "code",
   "execution_count": null,
   "id": "d315f761",
   "metadata": {},
   "outputs": [],
   "source": [
    "import pandas as pd\n",
    "import numpy as np\n",
    "import seaborn as sns\n",
    "import matplotlib.pyplot as plt"
   ]
  },
  {
   "cell_type": "code",
   "execution_count": 2,
   "id": "5c7d242a",
   "metadata": {},
   "outputs": [
    {
     "name": "stderr",
     "output_type": "stream",
     "text": [
      "C:\\Users\\MYPC~1\\AppData\\Local\\Temp/ipykernel_13524/1031658555.py:1: DtypeWarning: Columns (76) have mixed types. Specify dtype option on import or set low_memory=False.\n",
      "  df=pd.read_csv('fifa21 raw data v2.csv')\n"
     ]
    },
    {
     "data": {
      "text/html": [
       "<div>\n",
       "<style scoped>\n",
       "    .dataframe tbody tr th:only-of-type {\n",
       "        vertical-align: middle;\n",
       "    }\n",
       "\n",
       "    .dataframe tbody tr th {\n",
       "        vertical-align: top;\n",
       "    }\n",
       "\n",
       "    .dataframe thead th {\n",
       "        text-align: right;\n",
       "    }\n",
       "</style>\n",
       "<table border=\"1\" class=\"dataframe\">\n",
       "  <thead>\n",
       "    <tr style=\"text-align: right;\">\n",
       "      <th></th>\n",
       "      <th>ID</th>\n",
       "      <th>Name</th>\n",
       "      <th>LongName</th>\n",
       "      <th>photoUrl</th>\n",
       "      <th>playerUrl</th>\n",
       "      <th>Nationality</th>\n",
       "      <th>Age</th>\n",
       "      <th>↓OVA</th>\n",
       "      <th>POT</th>\n",
       "      <th>Club</th>\n",
       "      <th>...</th>\n",
       "      <th>A/W</th>\n",
       "      <th>D/W</th>\n",
       "      <th>IR</th>\n",
       "      <th>PAC</th>\n",
       "      <th>SHO</th>\n",
       "      <th>PAS</th>\n",
       "      <th>DRI</th>\n",
       "      <th>DEF</th>\n",
       "      <th>PHY</th>\n",
       "      <th>Hits</th>\n",
       "    </tr>\n",
       "  </thead>\n",
       "  <tbody>\n",
       "    <tr>\n",
       "      <th>0</th>\n",
       "      <td>158023</td>\n",
       "      <td>L. Messi</td>\n",
       "      <td>Lionel Messi</td>\n",
       "      <td>https://cdn.sofifa.com/players/158/023/21_60.png</td>\n",
       "      <td>http://sofifa.com/player/158023/lionel-messi/2...</td>\n",
       "      <td>Argentina</td>\n",
       "      <td>33</td>\n",
       "      <td>93</td>\n",
       "      <td>93</td>\n",
       "      <td>\\n\\n\\n\\nFC Barcelona</td>\n",
       "      <td>...</td>\n",
       "      <td>Medium</td>\n",
       "      <td>Low</td>\n",
       "      <td>5 ★</td>\n",
       "      <td>85</td>\n",
       "      <td>92</td>\n",
       "      <td>91</td>\n",
       "      <td>95</td>\n",
       "      <td>38</td>\n",
       "      <td>65</td>\n",
       "      <td>771</td>\n",
       "    </tr>\n",
       "    <tr>\n",
       "      <th>1</th>\n",
       "      <td>20801</td>\n",
       "      <td>Cristiano Ronaldo</td>\n",
       "      <td>C. Ronaldo dos Santos Aveiro</td>\n",
       "      <td>https://cdn.sofifa.com/players/020/801/21_60.png</td>\n",
       "      <td>http://sofifa.com/player/20801/c-ronaldo-dos-s...</td>\n",
       "      <td>Portugal</td>\n",
       "      <td>35</td>\n",
       "      <td>92</td>\n",
       "      <td>92</td>\n",
       "      <td>\\n\\n\\n\\nJuventus</td>\n",
       "      <td>...</td>\n",
       "      <td>High</td>\n",
       "      <td>Low</td>\n",
       "      <td>5 ★</td>\n",
       "      <td>89</td>\n",
       "      <td>93</td>\n",
       "      <td>81</td>\n",
       "      <td>89</td>\n",
       "      <td>35</td>\n",
       "      <td>77</td>\n",
       "      <td>562</td>\n",
       "    </tr>\n",
       "    <tr>\n",
       "      <th>2</th>\n",
       "      <td>200389</td>\n",
       "      <td>J. Oblak</td>\n",
       "      <td>Jan Oblak</td>\n",
       "      <td>https://cdn.sofifa.com/players/200/389/21_60.png</td>\n",
       "      <td>http://sofifa.com/player/200389/jan-oblak/210006/</td>\n",
       "      <td>Slovenia</td>\n",
       "      <td>27</td>\n",
       "      <td>91</td>\n",
       "      <td>93</td>\n",
       "      <td>\\n\\n\\n\\nAtlético Madrid</td>\n",
       "      <td>...</td>\n",
       "      <td>Medium</td>\n",
       "      <td>Medium</td>\n",
       "      <td>3 ★</td>\n",
       "      <td>87</td>\n",
       "      <td>92</td>\n",
       "      <td>78</td>\n",
       "      <td>90</td>\n",
       "      <td>52</td>\n",
       "      <td>90</td>\n",
       "      <td>150</td>\n",
       "    </tr>\n",
       "    <tr>\n",
       "      <th>3</th>\n",
       "      <td>192985</td>\n",
       "      <td>K. De Bruyne</td>\n",
       "      <td>Kevin De Bruyne</td>\n",
       "      <td>https://cdn.sofifa.com/players/192/985/21_60.png</td>\n",
       "      <td>http://sofifa.com/player/192985/kevin-de-bruyn...</td>\n",
       "      <td>Belgium</td>\n",
       "      <td>29</td>\n",
       "      <td>91</td>\n",
       "      <td>91</td>\n",
       "      <td>\\n\\n\\n\\nManchester City</td>\n",
       "      <td>...</td>\n",
       "      <td>High</td>\n",
       "      <td>High</td>\n",
       "      <td>4 ★</td>\n",
       "      <td>76</td>\n",
       "      <td>86</td>\n",
       "      <td>93</td>\n",
       "      <td>88</td>\n",
       "      <td>64</td>\n",
       "      <td>78</td>\n",
       "      <td>207</td>\n",
       "    </tr>\n",
       "    <tr>\n",
       "      <th>4</th>\n",
       "      <td>190871</td>\n",
       "      <td>Neymar Jr</td>\n",
       "      <td>Neymar da Silva Santos Jr.</td>\n",
       "      <td>https://cdn.sofifa.com/players/190/871/21_60.png</td>\n",
       "      <td>http://sofifa.com/player/190871/neymar-da-silv...</td>\n",
       "      <td>Brazil</td>\n",
       "      <td>28</td>\n",
       "      <td>91</td>\n",
       "      <td>91</td>\n",
       "      <td>\\n\\n\\n\\nParis Saint-Germain</td>\n",
       "      <td>...</td>\n",
       "      <td>High</td>\n",
       "      <td>Medium</td>\n",
       "      <td>5 ★</td>\n",
       "      <td>91</td>\n",
       "      <td>85</td>\n",
       "      <td>86</td>\n",
       "      <td>94</td>\n",
       "      <td>36</td>\n",
       "      <td>59</td>\n",
       "      <td>595</td>\n",
       "    </tr>\n",
       "    <tr>\n",
       "      <th>...</th>\n",
       "      <td>...</td>\n",
       "      <td>...</td>\n",
       "      <td>...</td>\n",
       "      <td>...</td>\n",
       "      <td>...</td>\n",
       "      <td>...</td>\n",
       "      <td>...</td>\n",
       "      <td>...</td>\n",
       "      <td>...</td>\n",
       "      <td>...</td>\n",
       "      <td>...</td>\n",
       "      <td>...</td>\n",
       "      <td>...</td>\n",
       "      <td>...</td>\n",
       "      <td>...</td>\n",
       "      <td>...</td>\n",
       "      <td>...</td>\n",
       "      <td>...</td>\n",
       "      <td>...</td>\n",
       "      <td>...</td>\n",
       "      <td>...</td>\n",
       "    </tr>\n",
       "    <tr>\n",
       "      <th>18974</th>\n",
       "      <td>247223</td>\n",
       "      <td>Xia Ao</td>\n",
       "      <td>Ao Xia</td>\n",
       "      <td>https://cdn.sofifa.com/players/247/223/21_60.png</td>\n",
       "      <td>http://sofifa.com/player/247223/ao-xia/210006/</td>\n",
       "      <td>China PR</td>\n",
       "      <td>21</td>\n",
       "      <td>47</td>\n",
       "      <td>55</td>\n",
       "      <td>\\n\\n\\n\\nWuhan Zall</td>\n",
       "      <td>...</td>\n",
       "      <td>Medium</td>\n",
       "      <td>Medium</td>\n",
       "      <td>1 ★</td>\n",
       "      <td>64</td>\n",
       "      <td>28</td>\n",
       "      <td>26</td>\n",
       "      <td>38</td>\n",
       "      <td>48</td>\n",
       "      <td>51</td>\n",
       "      <td>NaN</td>\n",
       "    </tr>\n",
       "    <tr>\n",
       "      <th>18975</th>\n",
       "      <td>258760</td>\n",
       "      <td>B. Hough</td>\n",
       "      <td>Ben Hough</td>\n",
       "      <td>https://cdn.sofifa.com/players/258/760/21_60.png</td>\n",
       "      <td>http://sofifa.com/player/258760/ben-hough/210006/</td>\n",
       "      <td>England</td>\n",
       "      <td>17</td>\n",
       "      <td>47</td>\n",
       "      <td>67</td>\n",
       "      <td>\\n\\n\\n\\nOldham Athletic</td>\n",
       "      <td>...</td>\n",
       "      <td>Medium</td>\n",
       "      <td>Medium</td>\n",
       "      <td>1 ★</td>\n",
       "      <td>64</td>\n",
       "      <td>40</td>\n",
       "      <td>48</td>\n",
       "      <td>49</td>\n",
       "      <td>35</td>\n",
       "      <td>45</td>\n",
       "      <td>NaN</td>\n",
       "    </tr>\n",
       "    <tr>\n",
       "      <th>18976</th>\n",
       "      <td>252757</td>\n",
       "      <td>R. McKinley</td>\n",
       "      <td>Ronan McKinley</td>\n",
       "      <td>https://cdn.sofifa.com/players/252/757/21_60.png</td>\n",
       "      <td>http://sofifa.com/player/252757/ronan-mckinley...</td>\n",
       "      <td>England</td>\n",
       "      <td>18</td>\n",
       "      <td>47</td>\n",
       "      <td>65</td>\n",
       "      <td>\\n\\n\\n\\nDerry City</td>\n",
       "      <td>...</td>\n",
       "      <td>Medium</td>\n",
       "      <td>Medium</td>\n",
       "      <td>1 ★</td>\n",
       "      <td>63</td>\n",
       "      <td>39</td>\n",
       "      <td>44</td>\n",
       "      <td>46</td>\n",
       "      <td>40</td>\n",
       "      <td>53</td>\n",
       "      <td>NaN</td>\n",
       "    </tr>\n",
       "    <tr>\n",
       "      <th>18977</th>\n",
       "      <td>243790</td>\n",
       "      <td>Wang Zhen'ao</td>\n",
       "      <td>Zhen'ao Wang</td>\n",
       "      <td>https://cdn.sofifa.com/players/243/790/21_60.png</td>\n",
       "      <td>http://sofifa.com/player/243790/zhenao-wang/21...</td>\n",
       "      <td>China PR</td>\n",
       "      <td>20</td>\n",
       "      <td>47</td>\n",
       "      <td>57</td>\n",
       "      <td>\\n\\n\\n\\nDalian YiFang FC</td>\n",
       "      <td>...</td>\n",
       "      <td>Medium</td>\n",
       "      <td>Medium</td>\n",
       "      <td>1 ★</td>\n",
       "      <td>58</td>\n",
       "      <td>49</td>\n",
       "      <td>41</td>\n",
       "      <td>49</td>\n",
       "      <td>30</td>\n",
       "      <td>44</td>\n",
       "      <td>NaN</td>\n",
       "    </tr>\n",
       "    <tr>\n",
       "      <th>18978</th>\n",
       "      <td>252520</td>\n",
       "      <td>Zhou Xiao</td>\n",
       "      <td>Xiao Zhou</td>\n",
       "      <td>https://cdn.sofifa.com/players/252/520/21_60.png</td>\n",
       "      <td>http://sofifa.com/player/252520/xiao-zhou/210006/</td>\n",
       "      <td>China PR</td>\n",
       "      <td>21</td>\n",
       "      <td>47</td>\n",
       "      <td>57</td>\n",
       "      <td>\\n\\n\\n\\nDalian YiFang FC</td>\n",
       "      <td>...</td>\n",
       "      <td>Medium</td>\n",
       "      <td>Medium</td>\n",
       "      <td>1 ★</td>\n",
       "      <td>62</td>\n",
       "      <td>22</td>\n",
       "      <td>39</td>\n",
       "      <td>42</td>\n",
       "      <td>45</td>\n",
       "      <td>55</td>\n",
       "      <td>NaN</td>\n",
       "    </tr>\n",
       "  </tbody>\n",
       "</table>\n",
       "<p>18979 rows × 77 columns</p>\n",
       "</div>"
      ],
      "text/plain": [
       "           ID               Name                      LongName  \\\n",
       "0      158023           L. Messi                  Lionel Messi   \n",
       "1       20801  Cristiano Ronaldo  C. Ronaldo dos Santos Aveiro   \n",
       "2      200389           J. Oblak                     Jan Oblak   \n",
       "3      192985       K. De Bruyne               Kevin De Bruyne   \n",
       "4      190871          Neymar Jr    Neymar da Silva Santos Jr.   \n",
       "...       ...                ...                           ...   \n",
       "18974  247223             Xia Ao                        Ao Xia   \n",
       "18975  258760           B. Hough                     Ben Hough   \n",
       "18976  252757        R. McKinley                Ronan McKinley   \n",
       "18977  243790       Wang Zhen'ao                  Zhen'ao Wang   \n",
       "18978  252520          Zhou Xiao                     Xiao Zhou   \n",
       "\n",
       "                                               photoUrl  \\\n",
       "0      https://cdn.sofifa.com/players/158/023/21_60.png   \n",
       "1      https://cdn.sofifa.com/players/020/801/21_60.png   \n",
       "2      https://cdn.sofifa.com/players/200/389/21_60.png   \n",
       "3      https://cdn.sofifa.com/players/192/985/21_60.png   \n",
       "4      https://cdn.sofifa.com/players/190/871/21_60.png   \n",
       "...                                                 ...   \n",
       "18974  https://cdn.sofifa.com/players/247/223/21_60.png   \n",
       "18975  https://cdn.sofifa.com/players/258/760/21_60.png   \n",
       "18976  https://cdn.sofifa.com/players/252/757/21_60.png   \n",
       "18977  https://cdn.sofifa.com/players/243/790/21_60.png   \n",
       "18978  https://cdn.sofifa.com/players/252/520/21_60.png   \n",
       "\n",
       "                                               playerUrl Nationality  Age  \\\n",
       "0      http://sofifa.com/player/158023/lionel-messi/2...   Argentina   33   \n",
       "1      http://sofifa.com/player/20801/c-ronaldo-dos-s...    Portugal   35   \n",
       "2      http://sofifa.com/player/200389/jan-oblak/210006/    Slovenia   27   \n",
       "3      http://sofifa.com/player/192985/kevin-de-bruyn...     Belgium   29   \n",
       "4      http://sofifa.com/player/190871/neymar-da-silv...      Brazil   28   \n",
       "...                                                  ...         ...  ...   \n",
       "18974     http://sofifa.com/player/247223/ao-xia/210006/    China PR   21   \n",
       "18975  http://sofifa.com/player/258760/ben-hough/210006/     England   17   \n",
       "18976  http://sofifa.com/player/252757/ronan-mckinley...     England   18   \n",
       "18977  http://sofifa.com/player/243790/zhenao-wang/21...    China PR   20   \n",
       "18978  http://sofifa.com/player/252520/xiao-zhou/210006/    China PR   21   \n",
       "\n",
       "       ↓OVA  POT                         Club  ...     A/W     D/W   IR PAC  \\\n",
       "0        93   93         \\n\\n\\n\\nFC Barcelona  ...  Medium     Low  5 ★  85   \n",
       "1        92   92             \\n\\n\\n\\nJuventus  ...    High     Low  5 ★  89   \n",
       "2        91   93      \\n\\n\\n\\nAtlético Madrid  ...  Medium  Medium  3 ★  87   \n",
       "3        91   91      \\n\\n\\n\\nManchester City  ...    High    High  4 ★  76   \n",
       "4        91   91  \\n\\n\\n\\nParis Saint-Germain  ...    High  Medium  5 ★  91   \n",
       "...     ...  ...                          ...  ...     ...     ...  ...  ..   \n",
       "18974    47   55           \\n\\n\\n\\nWuhan Zall  ...  Medium  Medium  1 ★  64   \n",
       "18975    47   67      \\n\\n\\n\\nOldham Athletic  ...  Medium  Medium  1 ★  64   \n",
       "18976    47   65           \\n\\n\\n\\nDerry City  ...  Medium  Medium  1 ★  63   \n",
       "18977    47   57     \\n\\n\\n\\nDalian YiFang FC  ...  Medium  Medium  1 ★  58   \n",
       "18978    47   57     \\n\\n\\n\\nDalian YiFang FC  ...  Medium  Medium  1 ★  62   \n",
       "\n",
       "      SHO  PAS DRI DEF PHY Hits  \n",
       "0      92   91  95  38  65  771  \n",
       "1      93   81  89  35  77  562  \n",
       "2      92   78  90  52  90  150  \n",
       "3      86   93  88  64  78  207  \n",
       "4      85   86  94  36  59  595  \n",
       "...    ..  ...  ..  ..  ..  ...  \n",
       "18974  28   26  38  48  51  NaN  \n",
       "18975  40   48  49  35  45  NaN  \n",
       "18976  39   44  46  40  53  NaN  \n",
       "18977  49   41  49  30  44  NaN  \n",
       "18978  22   39  42  45  55  NaN  \n",
       "\n",
       "[18979 rows x 77 columns]"
      ]
     },
     "execution_count": 2,
     "metadata": {},
     "output_type": "execute_result"
    }
   ],
   "source": [
    "df=pd.read_csv('fifa21 raw data v2.csv')\n",
    "df"
   ]
  },
  {
   "cell_type": "code",
   "execution_count": 3,
   "id": "557ea6b9",
   "metadata": {},
   "outputs": [
    {
     "name": "stdout",
     "output_type": "stream",
     "text": [
      "<class 'pandas.core.frame.DataFrame'>\n",
      "RangeIndex: 18979 entries, 0 to 18978\n",
      "Data columns (total 77 columns):\n",
      " #   Column            Non-Null Count  Dtype \n",
      "---  ------            --------------  ----- \n",
      " 0   ID                18979 non-null  int64 \n",
      " 1   Name              18979 non-null  object\n",
      " 2   LongName          18979 non-null  object\n",
      " 3   photoUrl          18979 non-null  object\n",
      " 4   playerUrl         18979 non-null  object\n",
      " 5   Nationality       18979 non-null  object\n",
      " 6   Age               18979 non-null  int64 \n",
      " 7   ↓OVA              18979 non-null  int64 \n",
      " 8   POT               18979 non-null  int64 \n",
      " 9   Club              18979 non-null  object\n",
      " 10  Contract          18979 non-null  object\n",
      " 11  Positions         18979 non-null  object\n",
      " 12  Height            18979 non-null  object\n",
      " 13  Weight            18979 non-null  object\n",
      " 14  Preferred Foot    18979 non-null  object\n",
      " 15  BOV               18979 non-null  int64 \n",
      " 16  Best Position     18979 non-null  object\n",
      " 17  Joined            18979 non-null  object\n",
      " 18  Loan Date End     1013 non-null   object\n",
      " 19  Value             18979 non-null  object\n",
      " 20  Wage              18979 non-null  object\n",
      " 21  Release Clause    18979 non-null  object\n",
      " 22  Attacking         18979 non-null  int64 \n",
      " 23  Crossing          18979 non-null  int64 \n",
      " 24  Finishing         18979 non-null  int64 \n",
      " 25  Heading Accuracy  18979 non-null  int64 \n",
      " 26  Short Passing     18979 non-null  int64 \n",
      " 27  Volleys           18979 non-null  int64 \n",
      " 28  Skill             18979 non-null  int64 \n",
      " 29  Dribbling         18979 non-null  int64 \n",
      " 30  Curve             18979 non-null  int64 \n",
      " 31  FK Accuracy       18979 non-null  int64 \n",
      " 32  Long Passing      18979 non-null  int64 \n",
      " 33  Ball Control      18979 non-null  int64 \n",
      " 34  Movement          18979 non-null  int64 \n",
      " 35  Acceleration      18979 non-null  int64 \n",
      " 36  Sprint Speed      18979 non-null  int64 \n",
      " 37  Agility           18979 non-null  int64 \n",
      " 38  Reactions         18979 non-null  int64 \n",
      " 39  Balance           18979 non-null  int64 \n",
      " 40  Power             18979 non-null  int64 \n",
      " 41  Shot Power        18979 non-null  int64 \n",
      " 42  Jumping           18979 non-null  int64 \n",
      " 43  Stamina           18979 non-null  int64 \n",
      " 44  Strength          18979 non-null  int64 \n",
      " 45  Long Shots        18979 non-null  int64 \n",
      " 46  Mentality         18979 non-null  int64 \n",
      " 47  Aggression        18979 non-null  int64 \n",
      " 48  Interceptions     18979 non-null  int64 \n",
      " 49  Positioning       18979 non-null  int64 \n",
      " 50  Vision            18979 non-null  int64 \n",
      " 51  Penalties         18979 non-null  int64 \n",
      " 52  Composure         18979 non-null  int64 \n",
      " 53  Defending         18979 non-null  int64 \n",
      " 54  Marking           18979 non-null  int64 \n",
      " 55  Standing Tackle   18979 non-null  int64 \n",
      " 56  Sliding Tackle    18979 non-null  int64 \n",
      " 57  Goalkeeping       18979 non-null  int64 \n",
      " 58  GK Diving         18979 non-null  int64 \n",
      " 59  GK Handling       18979 non-null  int64 \n",
      " 60  GK Kicking        18979 non-null  int64 \n",
      " 61  GK Positioning    18979 non-null  int64 \n",
      " 62  GK Reflexes       18979 non-null  int64 \n",
      " 63  Total Stats       18979 non-null  int64 \n",
      " 64  Base Stats        18979 non-null  int64 \n",
      " 65  W/F               18979 non-null  object\n",
      " 66  SM                18979 non-null  object\n",
      " 67  A/W               18979 non-null  object\n",
      " 68  D/W               18979 non-null  object\n",
      " 69  IR                18979 non-null  object\n",
      " 70  PAC               18979 non-null  int64 \n",
      " 71  SHO               18979 non-null  int64 \n",
      " 72  PAS               18979 non-null  int64 \n",
      " 73  DRI               18979 non-null  int64 \n",
      " 74  DEF               18979 non-null  int64 \n",
      " 75  PHY               18979 non-null  int64 \n",
      " 76  Hits              16384 non-null  object\n",
      "dtypes: int64(54), object(23)\n",
      "memory usage: 11.1+ MB\n"
     ]
    }
   ],
   "source": [
    "df.info()"
   ]
  },
  {
   "cell_type": "code",
   "execution_count": 4,
   "id": "af9eaf79",
   "metadata": {},
   "outputs": [
    {
     "data": {
      "text/plain": [
       "array(['170cm', '187cm', '188cm', '181cm', '175cm', '184cm', '191cm',\n",
       "       '178cm', '193cm', '185cm', '199cm', '173cm', '168cm', '176cm',\n",
       "       '177cm', '183cm', '180cm', '189cm', '179cm', '195cm', '172cm',\n",
       "       '182cm', '186cm', '192cm', '165cm', '194cm', '167cm', '196cm',\n",
       "       '163cm', '190cm', '174cm', '169cm', '171cm', '197cm', '200cm',\n",
       "       '166cm', '6\\'2\"', '164cm', '198cm', '6\\'3\"', '6\\'5\"', '5\\'11\"',\n",
       "       '6\\'4\"', '6\\'1\"', '6\\'0\"', '5\\'10\"', '5\\'9\"', '5\\'6\"', '5\\'7\"',\n",
       "       '5\\'4\"', '201cm', '158cm', '162cm', '161cm', '160cm', '203cm',\n",
       "       '157cm', '156cm', '202cm', '159cm', '206cm', '155cm'], dtype=object)"
      ]
     },
     "execution_count": 4,
     "metadata": {},
     "output_type": "execute_result"
    }
   ],
   "source": [
    "df['Height'].unique()"
   ]
  },
  {
   "cell_type": "code",
   "execution_count": 5,
   "id": "fe18a60f",
   "metadata": {},
   "outputs": [],
   "source": [
    "def convert_height(x):\n",
    "    if 'cm' in x:\n",
    "        return int(x.replace('cm', ''))\n",
    "    else:\n",
    "        height=x.split(\"'\")\n",
    "        return round(int(height[0])*30.48+int(height[1][:-1])*2.54)"
   ]
  },
  {
   "cell_type": "code",
   "execution_count": 6,
   "id": "21f3cbbd",
   "metadata": {},
   "outputs": [],
   "source": [
    "df['Height']=df['Height'].apply(convert_height)"
   ]
  },
  {
   "cell_type": "code",
   "execution_count": 7,
   "id": "a1ca88e7",
   "metadata": {},
   "outputs": [
    {
     "data": {
      "text/plain": [
       "array([170, 187, 188, 181, 175, 184, 191, 178, 193, 185, 199, 173, 168,\n",
       "       176, 177, 183, 180, 189, 179, 195, 172, 182, 186, 192, 165, 194,\n",
       "       167, 196, 163, 190, 174, 169, 171, 197, 200, 166, 164, 198, 201,\n",
       "       158, 162, 161, 160, 203, 157, 156, 202, 159, 206, 155], dtype=int64)"
      ]
     },
     "execution_count": 7,
     "metadata": {},
     "output_type": "execute_result"
    }
   ],
   "source": [
    "df['Height'].unique()"
   ]
  },
  {
   "cell_type": "code",
   "execution_count": 8,
   "id": "e8d35c42",
   "metadata": {},
   "outputs": [
    {
     "data": {
      "text/plain": [
       "array(['72kg', '83kg', '87kg', '70kg', '68kg', '80kg', '71kg', '91kg',\n",
       "       '73kg', '85kg', '92kg', '69kg', '84kg', '96kg', '81kg', '82kg',\n",
       "       '75kg', '86kg', '89kg', '74kg', '76kg', '64kg', '78kg', '90kg',\n",
       "       '66kg', '60kg', '94kg', '79kg', '67kg', '65kg', '59kg', '61kg',\n",
       "       '93kg', '88kg', '97kg', '77kg', '62kg', '63kg', '95kg', '100kg',\n",
       "       '58kg', '183lbs', '179lbs', '172lbs', '196lbs', '176lbs', '185lbs',\n",
       "       '170lbs', '203lbs', '168lbs', '161lbs', '146lbs', '130lbs',\n",
       "       '190lbs', '174lbs', '148lbs', '165lbs', '159lbs', '192lbs',\n",
       "       '181lbs', '139lbs', '154lbs', '157lbs', '163lbs', '98kg', '103kg',\n",
       "       '99kg', '102kg', '56kg', '101kg', '57kg', '55kg', '104kg', '107kg',\n",
       "       '110kg', '53kg', '50kg', '54kg', '52kg'], dtype=object)"
      ]
     },
     "execution_count": 8,
     "metadata": {},
     "output_type": "execute_result"
    }
   ],
   "source": [
    "df['Weight'].unique()"
   ]
  },
  {
   "cell_type": "code",
   "execution_count": 9,
   "id": "541cd0ed",
   "metadata": {},
   "outputs": [],
   "source": [
    "def convert_weight(x):\n",
    "    if \"kg\" in x:\n",
    "        return int(x[:-2])\n",
    "    else:\n",
    "        return round(int(x[:-3])*0.45)"
   ]
  },
  {
   "cell_type": "code",
   "execution_count": 10,
   "id": "40965ec0",
   "metadata": {},
   "outputs": [],
   "source": [
    "df['Weight']=df['Weight'].apply(convert_weight)"
   ]
  },
  {
   "cell_type": "code",
   "execution_count": 11,
   "id": "49284c0b",
   "metadata": {},
   "outputs": [
    {
     "data": {
      "text/plain": [
       "array([ 72,  83,  87,  70,  68,  80,  71,  91,  73,  85,  92,  69,  84,\n",
       "        96,  81,  82,  75,  86,  89,  74,  76,  64,  78,  90,  66,  60,\n",
       "        94,  79,  67,  65,  59,  61,  93,  88,  97,  77,  62,  63,  95,\n",
       "       100,  58,  98, 103,  99, 102,  56, 101,  57,  55, 104, 107, 110,\n",
       "        53,  50,  54,  52], dtype=int64)"
      ]
     },
     "execution_count": 11,
     "metadata": {},
     "output_type": "execute_result"
    }
   ],
   "source": [
    "df['Weight'].unique()"
   ]
  },
  {
   "cell_type": "code",
   "execution_count": 12,
   "id": "f89c6a71",
   "metadata": {},
   "outputs": [],
   "source": [
    "df.rename(columns={'Height':\"Height_cm\",\"Weight\":\"Weight_KG\"},inplace=True)"
   ]
  },
  {
   "cell_type": "code",
   "execution_count": 13,
   "id": "14073f73",
   "metadata": {},
   "outputs": [
    {
     "data": {
      "text/plain": [
       "Index(['ID', 'Name', 'LongName', 'photoUrl', 'playerUrl', 'Nationality', 'Age',\n",
       "       '↓OVA', 'POT', 'Club', 'Contract', 'Positions', 'Height_cm',\n",
       "       'Weight_KG', 'Preferred Foot', 'BOV', 'Best Position', 'Joined',\n",
       "       'Loan Date End', 'Value', 'Wage', 'Release Clause', 'Attacking',\n",
       "       'Crossing', 'Finishing', 'Heading Accuracy', 'Short Passing', 'Volleys',\n",
       "       'Skill', 'Dribbling', 'Curve', 'FK Accuracy', 'Long Passing',\n",
       "       'Ball Control', 'Movement', 'Acceleration', 'Sprint Speed', 'Agility',\n",
       "       'Reactions', 'Balance', 'Power', 'Shot Power', 'Jumping', 'Stamina',\n",
       "       'Strength', 'Long Shots', 'Mentality', 'Aggression', 'Interceptions',\n",
       "       'Positioning', 'Vision', 'Penalties', 'Composure', 'Defending',\n",
       "       'Marking', 'Standing Tackle', 'Sliding Tackle', 'Goalkeeping',\n",
       "       'GK Diving', 'GK Handling', 'GK Kicking', 'GK Positioning',\n",
       "       'GK Reflexes', 'Total Stats', 'Base Stats', 'W/F', 'SM', 'A/W', 'D/W',\n",
       "       'IR', 'PAC', 'SHO', 'PAS', 'DRI', 'DEF', 'PHY', 'Hits'],\n",
       "      dtype='object')"
      ]
     },
     "execution_count": 13,
     "metadata": {},
     "output_type": "execute_result"
    }
   ],
   "source": [
    "df.columns"
   ]
  },
  {
   "cell_type": "code",
   "execution_count": 14,
   "id": "f60904f6",
   "metadata": {},
   "outputs": [
    {
     "data": {
      "text/plain": [
       "0         Jul 1, 2004\n",
       "1        Jul 10, 2018\n",
       "2        Jul 16, 2014\n",
       "3        Aug 30, 2015\n",
       "4         Aug 3, 2017\n",
       "             ...     \n",
       "18974    Jul 13, 2018\n",
       "18975     Aug 1, 2020\n",
       "18976     Mar 8, 2019\n",
       "18977    Sep 22, 2020\n",
       "18978    Jul 29, 2019\n",
       "Name: Joined, Length: 18979, dtype: object"
      ]
     },
     "execution_count": 14,
     "metadata": {},
     "output_type": "execute_result"
    }
   ],
   "source": [
    "df['Joined']"
   ]
  },
  {
   "cell_type": "code",
   "execution_count": 15,
   "id": "ef76cc1b",
   "metadata": {},
   "outputs": [],
   "source": [
    "df['Joined']=pd.to_datetime(df['Joined'])"
   ]
  },
  {
   "cell_type": "code",
   "execution_count": 16,
   "id": "5dd5ca14",
   "metadata": {},
   "outputs": [],
   "source": [
    "df['Joined_year']=df['Joined'].dt.year"
   ]
  },
  {
   "cell_type": "code",
   "execution_count": 17,
   "id": "1554b470",
   "metadata": {},
   "outputs": [],
   "source": [
    "df['Joined_day']=df['Joined'].dt.day"
   ]
  },
  {
   "cell_type": "code",
   "execution_count": 18,
   "id": "256d4116",
   "metadata": {},
   "outputs": [],
   "source": [
    "df['Joined_Month']=df['Joined'].dt.month"
   ]
  },
  {
   "cell_type": "code",
   "execution_count": 19,
   "id": "e387e1d8",
   "metadata": {},
   "outputs": [
    {
     "data": {
      "text/plain": [
       "array(['€103.5M', '€63M', '€120M', '€129M', '€132M', '€111M', '€120.5M',\n",
       "       '€102M', '€185.5M', '€110M', '€113M', '€90.5M', '€82M', '€17.5M',\n",
       "       '€83.5M', '€33.5M', '€114.5M', '€78M', '€103M', '€109M', '€92M',\n",
       "       '€10M', '€76.5M', '€89.5M', '€87.5M', '€79.5M', '€124M', '€114M',\n",
       "       '€95M', '€92.5M', '€105.5M', '€88.5M', '€85M', '€81.5M', '€26M',\n",
       "       '€21M', '€56M', '€67.5M', '€53M', '€36.5M', '€51M', '€65.5M',\n",
       "       '€46.5M', '€61.5M', '€72.5M', '€77.5M', '€43.5M', '€32.5M', '€36M',\n",
       "       '€32M', '€54M', '€49.5M', '€57M', '€66.5M', '€74.5M', '€71.5M',\n",
       "       '€121M', '€99M', '€67M', '€86.5M', '€93.5M', '€70M', '€62M',\n",
       "       '€66M', '€58M', '€44M', '€81M', '€37M', '€14.5M', '€46M', '€47.5M',\n",
       "       '€52.5M', '€54.5M', '€34.5M', '€57.5M', '€51.5M', '€44.5M', '€55M',\n",
       "       '€48M', '€60.5M', '€63.5M', '€61M', '€29M', '€58.5M', '€55.5M',\n",
       "       '€42M', '€40.5M', '€43M', '€45.5M', '€34M', '€26.5M', '€42.5M',\n",
       "       '€35.5M', '€45M', '€41.5M', '€40M', '€11M', '€13.5M', '€29.5M',\n",
       "       '€27M', '€15.5M', '€38.5M', '€52M', '€33M', '€19M', '€73.5M',\n",
       "       '€38M', '€35M', '€47M', '€24M', '€30.5M', '€18M', '€28M', '€25.5M',\n",
       "       '€25M', '€31M', '€23.5M', '€30M', '€31.5M', '€22.5M', '€28.5M',\n",
       "       '€4M', '€12.5M', '€37.5M', '€27.5M', '€16M', '€15M', '€20.5M',\n",
       "       '€22M', '€3.4M', '€5M', '€56.5M', '€62.5M', '€0', '€39M', '€24.5M',\n",
       "       '€21.5M', '€13M', '€8M', '€20M', '€8.5M', '€2.9M', '€9M', '€4.6M',\n",
       "       '€50M', '€23M', '€18.5M', '€7M', '€19.5M', '€5.5M', '€7.5M',\n",
       "       '€3.8M', '€14M', '€10.5M', '€16.5M', '€3.6M', '€9.5M', '€39.5M',\n",
       "       '€17M', '€12M', '€11.5M', '€4.9M', '€3M', '€1.9M', '€6.5M',\n",
       "       '€1.7M', '€2.4M', '€3.1M', '€6M', '€3.7M', '€4.7M', '€4.3M',\n",
       "       '€2.1M', '€1.2M', '€1.8M', '€4.8M', '€3.2M', '€1.3M', '€825K',\n",
       "       '€2.3M', '€1.5M', '€3.9M', '€2.6M', '€3.5M', '€2.8M', '€2.7M',\n",
       "       '€4.4M', '€4.1M', '€950K', '€1.6M', '€625K', '€1.1M', '€4.5M',\n",
       "       '€4.2M', '€2.2M', '€3.3M', '€1.4M', '€2M', '€475K', '€925K',\n",
       "       '€750K', '€725K', '€2.5M', '€1M', '€350K', '€525K', '€600K',\n",
       "       '€850K', '€800K', '€550K', '€250K', '€400K', '€425K', '€575K',\n",
       "       '€210K', '€325K', '€900K', '€875K', '€650K', '€700K', '€500K',\n",
       "       '€975K', '€375K', '€775K', '€275K', '€180K', '€450K', '€675K',\n",
       "       '€150K', '€240K', '€300K', '€130K', '€220K', '€200K', '€110K',\n",
       "       '€170K', '€230K', '€90K', '€120K', '€80K', '€190K', '€140K',\n",
       "       '€160K', '€100K', '€60K', '€50K', '€70K', '€45K', '€35K', '€40K',\n",
       "       '€25K', '€20K', '€15K', '€30K', '€9K'], dtype=object)"
      ]
     },
     "execution_count": 19,
     "metadata": {},
     "output_type": "execute_result"
    }
   ],
   "source": [
    "df['Value'].unique()"
   ]
  },
  {
   "cell_type": "code",
   "execution_count": 20,
   "id": "074353da",
   "metadata": {},
   "outputs": [],
   "source": [
    "def format_columns(x):\n",
    "    x=x.replace(\"€\",'')\n",
    "    if 'M' in x:\n",
    "        return int(float(x[:-1])*1000000)\n",
    "    elif 'K' in x:\n",
    "        return int(float(x[:-1])*1000)\n",
    "    else:\n",
    "        return round(float(x))"
   ]
  },
  {
   "cell_type": "code",
   "execution_count": 21,
   "id": "b01e445b",
   "metadata": {},
   "outputs": [],
   "source": [
    "df.loc[:,['Value', 'Wage', 'Release Clause']] = df[['Value', 'Wage', 'Release Clause']].applymap(format_columns)"
   ]
  },
  {
   "cell_type": "code",
   "execution_count": 22,
   "id": "3def5a18",
   "metadata": {},
   "outputs": [
    {
     "data": {
      "text/plain": [
       "ID               int64\n",
       "Name            object\n",
       "LongName        object\n",
       "photoUrl        object\n",
       "playerUrl       object\n",
       "                 ...  \n",
       "PHY              int64\n",
       "Hits            object\n",
       "Joined_year      int32\n",
       "Joined_day       int32\n",
       "Joined_Month     int32\n",
       "Length: 80, dtype: object"
      ]
     },
     "execution_count": 22,
     "metadata": {},
     "output_type": "execute_result"
    }
   ],
   "source": [
    "df.dtypes"
   ]
  },
  {
   "cell_type": "code",
   "execution_count": 23,
   "id": "985ce5ef",
   "metadata": {},
   "outputs": [
    {
     "data": {
      "text/plain": [
       "array(['5 ★', '3 ★', '4 ★', '2 ★', '1 ★'], dtype=object)"
      ]
     },
     "execution_count": 23,
     "metadata": {},
     "output_type": "execute_result"
    }
   ],
   "source": [
    "df['IR'].unique()"
   ]
  },
  {
   "cell_type": "code",
   "execution_count": 24,
   "id": "855f4216",
   "metadata": {},
   "outputs": [
    {
     "data": {
      "text/plain": [
       "array(['4★', '5★', '1★', '2★', '3★'], dtype=object)"
      ]
     },
     "execution_count": 24,
     "metadata": {},
     "output_type": "execute_result"
    }
   ],
   "source": [
    "df['SM'].unique()"
   ]
  },
  {
   "cell_type": "code",
   "execution_count": 25,
   "id": "130d847f",
   "metadata": {},
   "outputs": [
    {
     "data": {
      "text/plain": [
       "array(['4 ★', '3 ★', '5 ★', '2 ★', '1 ★'], dtype=object)"
      ]
     },
     "execution_count": 25,
     "metadata": {},
     "output_type": "execute_result"
    }
   ],
   "source": [
    "df['W/F'].unique()"
   ]
  },
  {
   "cell_type": "code",
   "execution_count": 26,
   "id": "3fbd3348",
   "metadata": {},
   "outputs": [],
   "source": [
    "df['IR']=df['IR'].str.strip('★').str.strip().astype(int)"
   ]
  },
  {
   "cell_type": "code",
   "execution_count": 27,
   "id": "eb801431",
   "metadata": {},
   "outputs": [
    {
     "data": {
      "text/plain": [
       "0    5\n",
       "1    5\n",
       "2    3\n",
       "3    4\n",
       "4    5\n",
       "Name: IR, dtype: int32"
      ]
     },
     "execution_count": 27,
     "metadata": {},
     "output_type": "execute_result"
    }
   ],
   "source": [
    "df['IR'].head()"
   ]
  },
  {
   "cell_type": "code",
   "execution_count": 28,
   "id": "5a10e8e0",
   "metadata": {},
   "outputs": [],
   "source": [
    "df['SM']=df['SM'].str.strip('★').str.strip().astype(int)"
   ]
  },
  {
   "cell_type": "code",
   "execution_count": 29,
   "id": "ed37daa5",
   "metadata": {},
   "outputs": [
    {
     "data": {
      "text/plain": [
       "0    4\n",
       "1    5\n",
       "2    1\n",
       "3    4\n",
       "4    5\n",
       "Name: SM, dtype: int32"
      ]
     },
     "execution_count": 29,
     "metadata": {},
     "output_type": "execute_result"
    }
   ],
   "source": [
    "df['SM'].head()"
   ]
  },
  {
   "cell_type": "code",
   "execution_count": 30,
   "id": "65de10f4",
   "metadata": {},
   "outputs": [],
   "source": [
    "df['W/F']=df['W/F'].str.strip('★').str.strip().astype(int)"
   ]
  },
  {
   "cell_type": "code",
   "execution_count": 31,
   "id": "7c46628d",
   "metadata": {},
   "outputs": [
    {
     "data": {
      "text/plain": [
       "0    4\n",
       "1    4\n",
       "2    3\n",
       "3    5\n",
       "4    5\n",
       "Name: W/F, dtype: int32"
      ]
     },
     "execution_count": 31,
     "metadata": {},
     "output_type": "execute_result"
    }
   ],
   "source": [
    "df['W/F'].head()"
   ]
  },
  {
   "cell_type": "code",
   "execution_count": 32,
   "id": "9ccf55a1",
   "metadata": {},
   "outputs": [
    {
     "data": {
      "text/plain": [
       "0               \\n\\n\\n\\nFC Barcelona\n",
       "1                   \\n\\n\\n\\nJuventus\n",
       "2            \\n\\n\\n\\nAtlético Madrid\n",
       "3            \\n\\n\\n\\nManchester City\n",
       "4        \\n\\n\\n\\nParis Saint-Germain\n",
       "                    ...             \n",
       "18974             \\n\\n\\n\\nWuhan Zall\n",
       "18975        \\n\\n\\n\\nOldham Athletic\n",
       "18976             \\n\\n\\n\\nDerry City\n",
       "18977       \\n\\n\\n\\nDalian YiFang FC\n",
       "18978       \\n\\n\\n\\nDalian YiFang FC\n",
       "Name: Club, Length: 18979, dtype: object"
      ]
     },
     "execution_count": 32,
     "metadata": {},
     "output_type": "execute_result"
    }
   ],
   "source": [
    "df['Club']"
   ]
  },
  {
   "cell_type": "code",
   "execution_count": 33,
   "id": "21deeec7",
   "metadata": {},
   "outputs": [],
   "source": [
    "df['Club']=df['Club'].str.replace('\\n','',regex=False)"
   ]
  },
  {
   "cell_type": "code",
   "execution_count": 34,
   "id": "8285497b",
   "metadata": {},
   "outputs": [
    {
     "data": {
      "text/plain": [
       "0               FC Barcelona\n",
       "1                   Juventus\n",
       "2            Atlético Madrid\n",
       "3            Manchester City\n",
       "4        Paris Saint-Germain\n",
       "                ...         \n",
       "18974             Wuhan Zall\n",
       "18975        Oldham Athletic\n",
       "18976             Derry City\n",
       "18977       Dalian YiFang FC\n",
       "18978       Dalian YiFang FC\n",
       "Name: Club, Length: 18979, dtype: object"
      ]
     },
     "execution_count": 34,
     "metadata": {},
     "output_type": "execute_result"
    }
   ],
   "source": [
    "df['Club']"
   ]
  },
  {
   "cell_type": "code",
   "execution_count": 35,
   "id": "0a2e9006",
   "metadata": {},
   "outputs": [
    {
     "data": {
      "text/html": [
       "<div>\n",
       "<style scoped>\n",
       "    .dataframe tbody tr th:only-of-type {\n",
       "        vertical-align: middle;\n",
       "    }\n",
       "\n",
       "    .dataframe tbody tr th {\n",
       "        vertical-align: top;\n",
       "    }\n",
       "\n",
       "    .dataframe thead th {\n",
       "        text-align: right;\n",
       "    }\n",
       "</style>\n",
       "<table border=\"1\" class=\"dataframe\">\n",
       "  <thead>\n",
       "    <tr style=\"text-align: right;\">\n",
       "      <th></th>\n",
       "      <th>Wage</th>\n",
       "      <th>Value</th>\n",
       "    </tr>\n",
       "  </thead>\n",
       "  <tbody>\n",
       "    <tr>\n",
       "      <th>Wage</th>\n",
       "      <td>1.00000</td>\n",
       "      <td>0.81487</td>\n",
       "    </tr>\n",
       "    <tr>\n",
       "      <th>Value</th>\n",
       "      <td>0.81487</td>\n",
       "      <td>1.00000</td>\n",
       "    </tr>\n",
       "  </tbody>\n",
       "</table>\n",
       "</div>"
      ],
      "text/plain": [
       "          Wage    Value\n",
       "Wage   1.00000  0.81487\n",
       "Value  0.81487  1.00000"
      ]
     },
     "execution_count": 35,
     "metadata": {},
     "output_type": "execute_result"
    }
   ],
   "source": [
    "df[['Wage','Value']].corr()"
   ]
  },
  {
   "cell_type": "code",
   "execution_count": 36,
   "id": "335f95d8",
   "metadata": {},
   "outputs": [],
   "source": [
    "import seaborn as sns"
   ]
  },
  {
   "cell_type": "code",
   "execution_count": 41,
   "id": "cd8cc9aa",
   "metadata": {},
   "outputs": [],
   "source": [
    "df['Value']=df['Value'].astype(int)"
   ]
  },
  {
   "cell_type": "code",
   "execution_count": 42,
   "id": "6aba027c",
   "metadata": {},
   "outputs": [],
   "source": [
    "df['Wage']=df['Wage'].astype(int)"
   ]
  },
  {
   "cell_type": "code",
   "execution_count": 46,
   "id": "9c562bb5",
   "metadata": {},
   "outputs": [
    {
     "data": {
      "image/png": "[encoded data removed]",
      "text/plain": [
       "<Figure size 640x480 with 1 Axes>"
      ]
     },
     "metadata": {},
     "output_type": "display_data"
    }
   ],
   "source": [
    "sns.regplot(x='Wage', \n",
    "            y='Value', \n",
    "            data=df,\n",
    "            scatter_kws={'edgecolor' : 'black', 'linewidth' : 1, 'alpha':0.5, 'color' : 'orange'},\n",
    "            line_kws = {'color':'blue'}\n",
    "           )\n",
    "plt.show()"
   ]
  },
  {
   "cell_type": "code",
   "execution_count": null,
   "id": "0e8f6ee0",
   "metadata": {},
   "outputs": [],
   "source": []
  }
 ],
 "metadata": {
  "kernelspec": {
   "display_name": "Python (Tensorflow)",
   "language": "python",
   "name": "tf2.7"
  },
  "language_info": {
   "codemirror_mode": {
    "name": "ipython",
    "version": 3
   },
   "file_extension": ".py",
   "mimetype": "text/x-python",
   "name": "python",
   "nbconvert_exporter": "python",
   "pygments_lexer": "ipython3",
   "version": "3.8.17"
  }
 },
 "nbformat": 4,
 "nbformat_minor": 5
}
